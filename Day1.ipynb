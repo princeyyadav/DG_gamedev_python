{
 "cells": [
  {
   "cell_type": "markdown",
   "metadata": {},
   "source": [
    "# Day 1 (1-Feb-2021)\n",
    "## Lecture 1  "
   ]
  },
  {
   "cell_type": "markdown",
   "metadata": {},
   "source": [
    "## What is Programming?  \n",
    "Programming is the art of writing instructions for a computer to achieve a task.  \n",
    "- Sum of two numbers\n",
    "- Washing machine, wash my clothes\n",
    "- Calculate grade from the student's mark in exam  \n",
    "- We have Microsoft word which lets us write text\n",
    "- Alexa, Play \"Humma Humma\"\n",
    "\n",
    "The set of instructions/ commands is called a program."
   ]
  },
  {
   "cell_type": "markdown",
   "metadata": {},
   "source": [
    "## How do we instruct the computer?  \n",
    "- Instructions are given through a programming language.\n",
    "- Different type of programming language:  \n",
    "    1. Low Level: Binary/ Machine    \n",
    "        - A is written as 01000001 in binary  \n",
    "        - Understood by machines but difficult for humans  \n",
    "        - Our computers understand binary language: 0 and 1.  \n",
    "<br>      \n",
    "    2. High Level Language: C, C++, Java, Python  \n",
    "        - Written for humans/ programmers  \n",
    "<br>\n",
    "Source code translated into Machine code by:\n",
    "- Compiler: Translates entire code at once\n",
    "- Interpreter: translates line by line  \n",
    "\n"
   ]
  },
  {
   "cell_type": "markdown",
   "metadata": {},
   "source": [
    "## Python & Code Editor Installation\n",
    "- Interpreted language  \n",
    "- Source/ Python code --> Byte Code --> Python Virtual Machine --> Output  \n",
    "- Byte code is just a lower level, platform independent representation of the source code  \n",
    "- Conversion into Byte code speeds the program execution  \n",
    "- Byte code file has .pyc extension, which means 'compiled .py source'  \n",
    "- Byte code isn't binary machine code, it is Python specific representation  \n",
    "\n",
    "### Python Installation\n",
    "- Go to https://www.python.org/downloads/windows/\n",
    "- Download the stable release version 3.8.7\n",
    "- Make sure to check the box: 'add python to PATH' while installing python\n",
    "- Open cmd and type python\n",
    "- If python is installed correctly, python terminal should open, and\n",
    "- you should be able to see the version you installed\n",
    "\n",
    "## \"Add python to Path\" Documentation:  \n",
    "- For windows 10:  \n",
    "    https://datatofish.com/add-python-to-windows-path/   \n",
    "<br>\n",
    "- Windows in general:  \n",
    "    https://geek-university.com/python/add-python-to-the-windows-path/  \n",
    "\n",
    "### Code Editor Installation\n",
    "- Visual Studio Code\n"
   ]
  },
  {
   "cell_type": "markdown",
   "metadata": {},
   "source": [
    "# Python Basics\n",
    "## Print function"
   ]
  },
  {
   "cell_type": "code",
   "execution_count": null,
   "metadata": {},
   "outputs": [],
   "source": []
  },
  {
   "cell_type": "code",
   "execution_count": null,
   "metadata": {},
   "outputs": [],
   "source": []
  },
  {
   "cell_type": "code",
   "execution_count": 12,
   "metadata": {},
   "outputs": [
    {
     "output_type": "stream",
     "name": "stdout",
     "text": [
      "Hello world\nHi\n133\n"
     ]
    }
   ],
   "source": [
    "print(\"Hello world\", end = \"\\n\", sep=\" \")\n",
    "print(\"Hi\")\n",
    "print(\"133\")"
   ]
  },
  {
   "cell_type": "code",
   "execution_count": 16,
   "metadata": {},
   "outputs": [
    {
     "output_type": "stream",
     "name": "stdout",
     "text": [
      "Hi, My name is Princey\nHi&&&&Today is the first&&&&lecture&&&&of python gamedev training.\n"
     ]
    }
   ],
   "source": [
    "\n",
    "print(\"Hi\", \"My name is Princey\", sep=\", \")\n",
    "print(\"Hi\", \"Today is the first\", \"lecture\", \"of python gamedev training.\", sep=\"&&&&\")"
   ]
  },
  {
   "cell_type": "code",
   "execution_count": 20,
   "metadata": {},
   "outputs": [
    {
     "output_type": "stream",
     "name": "stdout",
     "text": [
      "Hey There How are you? Today, it's sunny.\nCome outside \n"
     ]
    }
   ],
   "source": [
    "# end parameter # comment\n",
    "print(\"Hey There\", end=\" \")\n",
    "print(\"How are you?\", end=\" \")\n",
    "print(\"Today, it's sunny.\")\n",
    "\n",
    "print(\"Come outside \")\n"
   ]
  },
  {
   "cell_type": "code",
   "execution_count": 22,
   "metadata": {},
   "outputs": [
    {
     "output_type": "stream",
     "name": "stdout",
     "text": [
      "Hello world\nBye\n"
     ]
    }
   ],
   "source": []
  },
  {
   "cell_type": "code",
   "execution_count": null,
   "metadata": {},
   "outputs": [],
   "source": []
  },
  {
   "source": [
    "# Lecture 2"
   ],
   "cell_type": "markdown",
   "metadata": {}
  },
  {
   "cell_type": "markdown",
   "metadata": {},
   "source": [
    "## Data Types in Python\n",
    "1. Integer : 1 3 -4 1e2  \n",
    "2. Float : 3.4 5.8 2.0  \n",
    "3. Boolean : True/ False  \n",
    "4. String : \"Hello\" 'c'  "
   ]
  },
  {
   "cell_type": "code",
   "execution_count": 28,
   "metadata": {},
   "outputs": [
    {
     "output_type": "stream",
     "name": "stdout",
     "text": [
      "3\n<class 'int'>\n"
     ]
    }
   ],
   "source": [
    "a = 3\n",
    "print(a)\n",
    "print(type(a))"
   ]
  },
  {
   "cell_type": "code",
   "execution_count": 29,
   "metadata": {},
   "outputs": [
    {
     "output_type": "execute_result",
     "data": {
      "text/plain": [
       "float"
      ]
     },
     "metadata": {},
     "execution_count": 29
    }
   ],
   "source": [
    "a = 4.5\n",
    "type(a)"
   ]
  },
  {
   "cell_type": "code",
   "execution_count": 32,
   "metadata": {},
   "outputs": [
    {
     "output_type": "stream",
     "name": "stdout",
     "text": [
      "<class 'str'>\n<class 'str'>\nHi there <class 'str'>\n"
     ]
    }
   ],
   "source": [
    "s = \"Rohan\" # within quotes\n",
    "print(type(s))\n",
    "s = \"rohan123@gmail.com\" # alphanumeric, special character\n",
    "print(type(s))\n",
    "s = 'Hi there'\n",
    "print(s, type(s))"
   ]
  },
  {
   "cell_type": "code",
   "execution_count": 79,
   "metadata": {},
   "outputs": [
    {
     "output_type": "stream",
     "name": "stdout",
     "text": [
      "<class 'int'>\nHarsh <class 'str'>\n"
     ]
    }
   ],
   "source": [
    "s = 2\n",
    "print(type(s))\n",
    "s = \"Harsh\"\n",
    "print(s , type(s))"
   ]
  },
  {
   "cell_type": "code",
   "execution_count": 34,
   "metadata": {},
   "outputs": [
    {
     "output_type": "stream",
     "name": "stdout",
     "text": [
      "True\n"
     ]
    }
   ],
   "source": [
    "bool_var =  True\n",
    "print(bool_var)"
   ]
  },
  {
   "cell_type": "markdown",
   "metadata": {},
   "source": [
    "## Python Comments\n",
    "- Single line  : use #\n",
    "- Multiline: \"\"\" \"\"\""
   ]
  },
  {
   "cell_type": "code",
   "execution_count": 27,
   "metadata": {},
   "outputs": [
    {
     "output_type": "stream",
     "name": "stdout",
     "text": [
      "Hi\n"
     ]
    }
   ],
   "source": [
    "# This is sigle line comment\n",
    "# print() this is commented\n",
    "\n",
    "# comment 1\n",
    "print(\"Hi\") "
   ]
  },
  {
   "cell_type": "code",
   "execution_count": 26,
   "metadata": {},
   "outputs": [
    {
     "output_type": "stream",
     "name": "stdout",
     "text": [
      "my name\n"
     ]
    }
   ],
   "source": [
    "\"\"\"\n",
    "This is example of \n",
    "multiline \n",
    "comment\n",
    "comment 1\n",
    "comment 2\n",
    "\"\"\"\n",
    "print(\"my name\")"
   ]
  },
  {
   "cell_type": "markdown",
   "metadata": {},
   "source": [
    "## Variables\n",
    "- What are variables?  \n",
    "        Placeholders/containers tostore value\n",
    "- Advantage    "
   ]
  },
  {
   "cell_type": "code",
   "execution_count": null,
   "metadata": {},
   "outputs": [],
   "source": [
    "name = \"Rohan\"\n",
    "age = 20\n",
    "school = \"Kendra Vidyalya, Paschim vihar\"\n"
   ]
  },
  {
   "cell_type": "markdown",
   "metadata": {},
   "source": [
    "## Arithmetic Operators\n",
    "1. Divide a/b  \n",
    "2. Multiply a*b  \n",
    "3. Add  a+b  \n",
    "4. Subtract a-b  \n",
    "5. Power a**b , math.pow(a,b) \n",
    "6. Modulus a%b  \n",
    "7. Floor Division a//b\n"
   ]
  },
  {
   "cell_type": "code",
   "execution_count": 35,
   "metadata": {},
   "outputs": [
    {
     "output_type": "stream",
     "name": "stdout",
     "text": [
      "9\n"
     ]
    }
   ],
   "source": [
    "a = 4\n",
    "b = 5\n",
    "\n",
    "print(a+b)"
   ]
  },
  {
   "cell_type": "code",
   "execution_count": 37,
   "metadata": {},
   "outputs": [
    {
     "output_type": "stream",
     "name": "stdout",
     "text": [
      "-1\n1\n"
     ]
    }
   ],
   "source": [
    "print(a-b) # 4 - 5\n",
    "print(b-a)  # 5 - 4"
   ]
  },
  {
   "cell_type": "code",
   "execution_count": 39,
   "metadata": {},
   "outputs": [
    {
     "output_type": "execute_result",
     "data": {
      "text/plain": [
       "20"
      ]
     },
     "metadata": {},
     "execution_count": 39
    }
   ],
   "source": [
    "# multiply\n",
    "a*b"
   ]
  },
  {
   "cell_type": "code",
   "execution_count": 43,
   "metadata": {},
   "outputs": [
    {
     "output_type": "stream",
     "name": "stdout",
     "text": [
      "8.0\n8\n8.0\n8\n"
     ]
    }
   ],
   "source": [
    "# divide\n",
    "print(a/b) # output float\n",
    "print(a//b) # output is int\n",
    "\n",
    "a = 40\n",
    "b = 5\n",
    "print(a/b)\n",
    "print(a//b)"
   ]
  },
  {
   "cell_type": "code",
   "execution_count": 45,
   "metadata": {},
   "outputs": [
    {
     "output_type": "stream",
     "name": "stdout",
     "text": [
      "0\n2\n"
     ]
    }
   ],
   "source": [
    "# modulo % : gives remainder\n",
    "print(a%b) \n",
    "\n",
    "x = 42\n",
    "y = 8\n",
    "print(x%y)"
   ]
  },
  {
   "cell_type": "code",
   "execution_count": 48,
   "metadata": {},
   "outputs": [
    {
     "output_type": "stream",
     "name": "stdout",
     "text": [
      "25\n125\n2.0\n2.0\n"
     ]
    }
   ],
   "source": [
    "# power/ exponentiation using **\n",
    "y = 5\n",
    "print(y**2) # y ka square\n",
    "print(y**3) # y raised  to power 3\n",
    "\n",
    "y = 4\n",
    "print(y**0.5) # square root\n",
    "print(32**(1/5)) # 5th root"
   ]
  },
  {
   "cell_type": "markdown",
   "metadata": {},
   "source": [
    "## Input Function and Type Casting"
   ]
  },
  {
   "cell_type": "code",
   "execution_count": 51,
   "metadata": {},
   "outputs": [
    {
     "output_type": "stream",
     "name": "stdout",
     "text": [
      "Rohan <class 'str'>\n30 <class 'str'>\nRohan 30 <class 'str'> <class 'str'>\n"
     ]
    }
   ],
   "source": [
    "name = input(\"Enter name\")\n",
    "age = input(\"Enter your age\")\n",
    "print(name, type(name))\n",
    "print(age, type(age))\n",
    "\n",
    "print(name, age, type(name), type(age))"
   ]
  },
  {
   "cell_type": "code",
   "execution_count": 59,
   "metadata": {},
   "outputs": [
    {
     "output_type": "stream",
     "name": "stdout",
     "text": [
      "3 4\n<class 'str'> <class 'str'>\n"
     ]
    }
   ],
   "source": [
    "# Get two numbers from user, print their product\n",
    "a = input(\"Enter first number\")\n",
    "b = input(\"Enter second number\")\n",
    "print(a, b)\n",
    "print(type(a), type(b))"
   ]
  },
  {
   "cell_type": "code",
   "execution_count": 60,
   "metadata": {},
   "outputs": [
    {
     "output_type": "stream",
     "name": "stdout",
     "text": [
      "12\n<class 'int'> <class 'int'>\n"
     ]
    }
   ],
   "source": [
    "a = int(a)\n",
    "b = int(b)\n",
    "print(a*b)\n",
    "print(type(a), type(b))"
   ]
  },
  {
   "cell_type": "code",
   "execution_count": 61,
   "metadata": {},
   "outputs": [
    {
     "output_type": "stream",
     "name": "stdout",
     "text": [
      "2 3\n<class 'int'> <class 'int'>\n5\n"
     ]
    }
   ],
   "source": [
    "a = int(input(\"Enter first number\")) # type casting\n",
    "b = int(input(\"Enter second number\")) # type casted into intger\n",
    "print(a, b)\n",
    "print(type(a), type(b))\n",
    "print(a+b)"
   ]
  },
  {
   "cell_type": "code",
   "execution_count": 62,
   "metadata": {},
   "outputs": [
    {
     "output_type": "stream",
     "name": "stdout",
     "text": [
      "<class 'int'>\n4 <class 'str'>\n"
     ]
    }
   ],
   "source": [
    "a = 4\n",
    "print(type(a))\n",
    "a = str(a) # type casted into str\n",
    "print(a, type(a))"
   ]
  },
  {
   "cell_type": "markdown",
   "metadata": {},
   "source": [
    "## Print formatting\n",
    "- join word using ,\n",
    "- .format()\n",
    "- write string with concatenation (aka join strings with + operator) \n",
    "- f strings\n",
    "- raw strings and escape sequences (\\n, \\t)"
   ]
  },
  {
   "cell_type": "code",
   "execution_count": 63,
   "metadata": {},
   "outputs": [],
   "source": [
    "name = \"Rohan\"\n",
    "age = 25\n",
    "school = \"KV Pitampura\""
   ]
  },
  {
   "cell_type": "code",
   "execution_count": 65,
   "metadata": {},
   "outputs": [
    {
     "output_type": "stream",
     "name": "stdout",
     "text": [
      "My name is Rohan I am 25 years old. I teach at KV Pitampura\n"
     ]
    }
   ],
   "source": [
    "# way 1 using comma\n",
    "# I want to print below output:\n",
    "\"\"\"My name is <name>. I am <age> years old. I teach at <school>\"\"\" \n",
    "\n",
    "print(\"My name is\", name, \"I am\", age, \"years old. I teach at\", school)"
   ]
  },
  {
   "cell_type": "code",
   "execution_count": 69,
   "metadata": {},
   "outputs": [
    {
     "output_type": "stream",
     "name": "stdout",
     "text": [
      "My name is Rohan. I am 25 years old. I teach at KV Pitampura.\nMy name is 25. I am Rohan years old. I teach at KV Pitampura.\n"
     ]
    }
   ],
   "source": [
    "# way 2 using .format()\n",
    "\n",
    "s = \"My name is {}. I am {} years old. I teach at {}.\".format(name, age, school)\n",
    "print(s)\n",
    "\n",
    "s = \"My name is {}. I am {} years old. I teach at {}.\".format(age, name, school) # need to remember the orderof variables\n",
    "print(s)"
   ]
  },
  {
   "cell_type": "code",
   "execution_count": 70,
   "metadata": {},
   "outputs": [
    {
     "output_type": "stream",
     "name": "stdout",
     "text": [
      "My name is Rohan. I am 25 years old. I teach at KV Pitampura.\n"
     ]
    }
   ],
   "source": [
    "# way 3 of formatting string: f strings\n",
    "s = f\"My name is {name}. I am {age} years old. I teach at {school}.\"\n",
    "print(s)"
   ]
  },
  {
   "cell_type": "code",
   "execution_count": 71,
   "metadata": {},
   "outputs": [
    {
     "output_type": "stream",
     "name": "stdout",
     "text": [
      "Product of 3 and 4 is 12\n"
     ]
    }
   ],
   "source": [
    "a = 3\n",
    "b = 4\n",
    "print(f\"Product of {a} and {b} is {a*b}\")"
   ]
  },
  {
   "cell_type": "code",
   "execution_count": 74,
   "metadata": {},
   "outputs": [
    {
     "output_type": "stream",
     "name": "stdout",
     "text": [
      "Product of 3 and 4\n"
     ]
    }
   ],
   "source": [
    "# way 4 using + operator\n",
    "s = \"Product of \"+str(a)+ \" and \"+ str(b)\n",
    "print(s)"
   ]
  },
  {
   "cell_type": "code",
   "execution_count": 78,
   "metadata": {},
   "outputs": [
    {
     "output_type": "stream",
     "name": "stdout",
     "text": [
      "Hi \n there\nHi \t there\nHi \\n there\nHi \\t there\n"
     ]
    }
   ],
   "source": [
    "# Raw strings: r strings\n",
    "s = \"Hi \\n there\"\n",
    "print(s)\n",
    "\n",
    "s = \"Hi \\t there\"\n",
    "print(s)\n",
    "\n",
    "s = r\"Hi \\n there\"\n",
    "print(s)\n",
    "\n",
    "s = r\"Hi \\t there\"\n",
    "print(s)\n"
   ]
  },
  {
   "cell_type": "code",
   "execution_count": null,
   "metadata": {},
   "outputs": [],
   "source": []
  }
 ],
 "metadata": {
  "kernelspec": {
   "display_name": "Python 3",
   "language": "python",
   "name": "python3"
  },
  "language_info": {
   "codemirror_mode": {
    "name": "ipython",
    "version": 3
   },
   "file_extension": ".py",
   "mimetype": "text/x-python",
   "name": "python",
   "nbconvert_exporter": "python",
   "pygments_lexer": "ipython3",
   "version": "3.8.3-final"
  }
 },
 "nbformat": 4,
 "nbformat_minor": 4
}