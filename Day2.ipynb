{
 "cells": [
  {
   "cell_type": "markdown",
   "metadata": {},
   "source": [
    "# Day 2 (2-Feb-2021)\n",
    "## Lecture 3  "
   ]
  },
  {
   "cell_type": "code",
   "execution_count": 69,
   "metadata": {},
   "outputs": [
    {
     "output_type": "stream",
     "name": "stdout",
     "text": [
      "Hello123\n"
     ]
    }
   ],
   "source": [
    "# String concatenation using \"+\" operator\n",
    "s1 = \"Hello\"\n",
    "s2 = 123 # number or integer\n",
    "\n",
    "# I want to join s1 and s2\n",
    "# print(s1 + s2) # gives TypeError: can't add int data type to str\n",
    "s = s1 + str(s2)\n",
    "print(s)"
   ]
  },
  {
   "cell_type": "code",
   "execution_count": null,
   "metadata": {},
   "outputs": [],
   "source": []
  },
  {
   "cell_type": "code",
   "execution_count": null,
   "metadata": {},
   "outputs": [],
   "source": []
  },
  {
   "cell_type": "markdown",
   "metadata": {},
   "source": [
    "## Comparison Operators\n",
    "-  < >  == !=  >=  <=  "
   ]
  },
  {
   "cell_type": "code",
   "execution_count": 5,
   "metadata": {},
   "outputs": [
    {
     "output_type": "stream",
     "name": "stdout",
     "text": [
      "passed with distinction\n"
     ]
    }
   ],
   "source": [
    "marks = 70\n",
    "\n",
    "if  marks < 30:\n",
    "    print(\"Failed the test\")\n",
    "elif marks > 30 and marks <60:\n",
    "    print(\"Passed and second division\")\n",
    "elif marks > 60 and marks <75:\n",
    "    print(\"passed with first division\")\n",
    "else:\n",
    "    print(\"passed with distinction\")"
   ]
  },
  {
   "cell_type": "markdown",
   "metadata": {},
   "source": [
    "## Logical  \n",
    "- and  \n",
    "- or  \n",
    "- not  "
   ]
  },
  {
   "cell_type": "code",
   "execution_count": null,
   "metadata": {},
   "outputs": [],
   "source": []
  },
  {
   "cell_type": "markdown",
   "metadata": {},
   "source": [
    "## Control Flow/ Conditional statements\n",
    "- if else elif  \n",
    "- Difference in multiple if statements and using elif  \n",
    "- ### Examples:\n",
    "    - some made up example (if food at home, eat, else go to market)  \n",
    "    - student's grades and division class (second/ first/ first with distinction)  \n",
    "    - Is input no. odd or even?\n",
    "    - Build a calculator which takes 2 nos. as input, Display the arithmetic operations: (* / + - // power) and output result  "
   ]
  },
  {
   "cell_type": "code",
   "execution_count": 8,
   "metadata": {},
   "outputs": [
    {
     "output_type": "stream",
     "name": "stdout",
     "text": [
      "Eat\nEat\nEat and dance\nExercise\n"
     ]
    }
   ],
   "source": [
    "food = True\n",
    "\n",
    "if food:\n",
    "    print(\"Eat\")\n",
    "    print(\"Eat\")\n",
    "    print(\"Eat and dance\")\n",
    "\n",
    "else:\n",
    "    print(\"Cook it\")\n",
    "    print(\"Or go to market\")\n",
    "    print(\" Buy something\")\n",
    "\n",
    "print(\"Exercise\")"
   ]
  },
  {
   "cell_type": "code",
   "execution_count": 11,
   "metadata": {},
   "outputs": [
    {
     "output_type": "stream",
     "name": "stdout",
     "text": [
      "24 is even\n"
     ]
    }
   ],
   "source": [
    "a = int(input(\"Enter an integer\"))\n",
    "if a%2 == 0:\n",
    "    print(f\"{a} is even\")\n",
    "else:\n",
    "    print(f\"{a} is odd\")"
   ]
  },
  {
   "cell_type": "code",
   "execution_count": 13,
   "metadata": {},
   "outputs": [
    {
     "output_type": "stream",
     "name": "stdout",
     "text": [
      "a: 12, b: 4\n"
     ]
    }
   ],
   "source": [
    "a = int(input(\"Enter first number\"))\n",
    "b = int(input(\"Enter second number\"))\n",
    "print(f\"a: {a}, b: {b}\")"
   ]
  },
  {
   "cell_type": "code",
   "execution_count": 16,
   "metadata": {},
   "outputs": [
    {
     "output_type": "stream",
     "name": "stdout",
     "text": [
      "user want to perform power operation\n20736\n"
     ]
    }
   ],
   "source": [
    "# operation + - * / power (**) modulo\n",
    "operation = input(\"Enter the arithmetic operation\")\n",
    "print(f\"user want to perform {operation} operation\")\n",
    "if operation == \"+\":\n",
    "    print(a+b)\n",
    "elif operation == \"-\":\n",
    "    print(a-b)\n",
    "elif operation == \"*\":\n",
    "    print(a*b)\n",
    "elif operation == \"power\":\n",
    "    print(a**b)\n",
    "else:\n",
    "    # modulo\n",
    "    print(a%b)\n",
    "\n"
   ]
  },
  {
   "cell_type": "code",
   "execution_count": 19,
   "metadata": {},
   "outputs": [
    {
     "output_type": "stream",
     "name": "stdout",
     "text": [
      "Wait for rain to stop\n"
     ]
    }
   ],
   "source": [
    "# nested if else\n",
    "food = False\n",
    "rain = True\n",
    "\n",
    "if food:\n",
    "    print(\"Eat it.\")\n",
    "else:\n",
    "    if rain:\n",
    "        print(\"Wait for rain to stop\")\n",
    "    else:\n",
    "        print(\"Go to market and buy veggies\")\n",
    "        print(\"Cook and eat\")\n"
   ]
  },
  {
   "cell_type": "markdown",
   "metadata": {},
   "source": [
    "## Loops\n",
    "- for  \n",
    "- while  "
   ]
  },
  {
   "cell_type": "code",
   "execution_count": 20,
   "metadata": {},
   "outputs": [
    {
     "output_type": "stream",
     "name": "stdout",
     "text": [
      "i: 0 python\ni: 1 python\ni: 2 python\ni: 3 python\ni: 4 python\ni: 5 python\ni: 6 python\ni: 7 python\ni: 8 python\ni: 9 python\n"
     ]
    }
   ],
   "source": [
    "# print python 10 times\n",
    "n = 10\n",
    "for i in range(n):\n",
    "    print(\"i:\", i, \"python\")"
   ]
  },
  {
   "cell_type": "code",
   "execution_count": 21,
   "metadata": {},
   "outputs": [
    {
     "output_type": "stream",
     "name": "stdout",
     "text": [
      "i: 1 python\ni: 2 python\ni: 3 python\ni: 4 python\ni: 5 python\ni: 6 python\ni: 7 python\ni: 8 python\ni: 9 python\n"
     ]
    }
   ],
   "source": [
    "for i in range(1,n): # i -> 1 to n-1\n",
    "    print(\"i:\", i, \"python\")"
   ]
  },
  {
   "cell_type": "code",
   "execution_count": 23,
   "metadata": {},
   "outputs": [
    {
     "output_type": "stream",
     "name": "stdout",
     "text": [
      "i: 1 python\ni: 3 python\ni: 5 python\ni: 7 python\ni: 9 python\n"
     ]
    }
   ],
   "source": [
    "for i in range(1, n, 2):\n",
    "    print(\"i:\", i, \"python\")"
   ]
  },
  {
   "cell_type": "code",
   "execution_count": 26,
   "metadata": {},
   "outputs": [
    {
     "output_type": "stream",
     "name": "stdout",
     "text": [
      "i: 0 python\ni: 2 python\ni: 4 python\ni: 6 python\ni: 8 python\n1\n"
     ]
    }
   ],
   "source": [
    "n = 10\n",
    "count = 0\n",
    "for x in range(0, n, 2):\n",
    "    print(\"i:\", x, \"python\")\n",
    "    count += 1\n",
    "    \n",
    "print(count)\n",
    "    "
   ]
  },
  {
   "cell_type": "code",
   "execution_count": null,
   "metadata": {},
   "outputs": [],
   "source": [
    "count -= 1 # count = count - 1\n",
    "count *= -1 # count = count * (-1)\n",
    "count /= 2 # count = count / 2"
   ]
  },
  {
   "cell_type": "code",
   "execution_count": 27,
   "metadata": {},
   "outputs": [
    {
     "output_type": "stream",
     "name": "stdout",
     "text": [
      "1 python\n3 python\n5 python\n7 python\n9 python\n11\n"
     ]
    }
   ],
   "source": [
    "i = 1 # initialize your counter\n",
    "while i <= 10:\n",
    "    print(i, \"python\") \n",
    "    i += 2 # update counter\n",
    "print(i)"
   ]
  },
  {
   "cell_type": "code",
   "execution_count": 31,
   "metadata": {},
   "outputs": [
    {
     "output_type": "stream",
     "name": "stdout",
     "text": [
      "i: 10 python\ni: 8 python\ni: 6 python\ni: 4 python\ni: 2 python\n"
     ]
    }
   ],
   "source": [
    "for i in range(n, 1, -2):\n",
    "    print(\"i:\", i, \"python\")"
   ]
  },
  {
   "source": [
    "# Lecture 4\n",
    "### Examples\n",
    "1. printing numbers upto 100  \n",
    "2. printing prime numbers upto 100\n",
    "3. Pattern Questions"
   ],
   "cell_type": "markdown",
   "metadata": {}
  },
  {
   "cell_type": "code",
   "execution_count": 35,
   "metadata": {},
   "outputs": [
    {
     "output_type": "stream",
     "name": "stdout",
     "text": [
      "1 2 3 4 5 6 7 8 9 10 11 12 13 14 15 16 17 18 19 20 21 22 23 24 25 26 27 28 29 30 31 32 33 34 35 36 37 38 39 40 41 42 43 44 45 46 47 48 49 50 51 52 53 54 55 56 57 58 59 60 61 62 63 64 65 66 67 68 69 70 71 72 73 74 75 76 77 78 79 80 81 82 83 84 85 86 87 88 89 90 91 92 93 94 95 96 97 98 99 100 "
     ]
    }
   ],
   "source": [
    "# print numbers upto 100\n",
    "N = 100\n",
    "for num in range(1, N+1):\n",
    "    print(num, end=\" \")"
   ]
  },
  {
   "cell_type": "code",
   "execution_count": 68,
   "metadata": {},
   "outputs": [
    {
     "output_type": "stream",
     "name": "stdout",
     "text": [
      "2 3 5 7 11 13 17 19 23 29 31 37 41 43 47 53 59 61 67 71 73 79 83 89 97 \nNo. of prime numbers upto 100 is 25\n"
     ]
    }
   ],
   "source": [
    "# print prime numbers upto N\n",
    "N = 100\n",
    "count = 0\n",
    "for num in range(2, N+1):\n",
    "    flag = True\n",
    "    for i in range(2, int(num**0.5)+1):\n",
    "        if num%i == 0:\n",
    "            flag = False\n",
    "            break\n",
    "\n",
    "    if flag:\n",
    "        print(num, end=\" \")\n",
    "        count += 1\n",
    "print(f\"\\nNo. of prime numbers upto {N} is {count}\")"
   ]
  },
  {
   "cell_type": "code",
   "execution_count": 39,
   "metadata": {},
   "outputs": [
    {
     "output_type": "stream",
     "name": "stdout",
     "text": [
      "i: 0\n\tj: 0\n\t\t k: 0 I love python\n\t\t k: 1 I love python\n\tj: 1\n\t\t k: 0 I love python\n\t\t k: 1 I love python\n\tj: 2\n\t\t k: 0 I love python\n\t\t k: 1 I love python\ni: 1\n\tj: 0\n\t\t k: 0 I love python\n\t\t k: 1 I love python\n\tj: 1\n\t\t k: 0 I love python\n\t\t k: 1 I love python\n\tj: 2\n\t\t k: 0 I love python\n\t\t k: 1 I love python\n"
     ]
    }
   ],
   "source": [
    "# Nested loop\n",
    "for i in range(2):\n",
    "    print(\"i:\", i)\n",
    "    for j in range(3):\n",
    "        print(\"\\tj:\", j)\n",
    "        for k in range(2):\n",
    "            print(f\"\\t\\t k: {k} I love python\")"
   ]
  },
  {
   "cell_type": "code",
   "execution_count": 46,
   "metadata": {},
   "outputs": [
    {
     "output_type": "stream",
     "name": "stdout",
     "text": [
      "row 0\n\t col 0 * \nrow 1\n\t col 0 * \t col 1 * \nrow 2\n\t col 0 * \t col 1 * \t col 2 * \nrow 3\n\t col 0 * \t col 1 * \t col 2 * \t col 3 * \nrow 4\n\t col 0 * \t col 1 * \t col 2 * \t col 3 * \t col 4 * \n\n* \n* * \n* * * \n* * * * \n* * * * * \n"
     ]
    }
   ],
   "source": [
    "# patterns\n",
    "N = 5\n",
    "for row in range(N):\n",
    "    print(\"row\", row)\n",
    "    for col in range(row+1):\n",
    "        print(\"\\t col\",col, end= \" \")\n",
    "        print(\"*\", end=\" \")\n",
    "    print()\n",
    "\n",
    "print()\n",
    "for row in range(N):\n",
    "    for col in range(row+1):\n",
    "        print(\"*\", end=\" \")\n",
    "    print() # come to new line"
   ]
  },
  {
   "cell_type": "code",
   "execution_count": 48,
   "metadata": {},
   "outputs": [
    {
     "output_type": "stream",
     "name": "stdout",
     "text": [
      "        * \n      * * * \n    * * * * * \n  * * * * * * * \n* * * * * * * * * \n"
     ]
    }
   ],
   "source": [
    "N = 5\n",
    "num_spaces = N-1\n",
    "num_stars = 1\n",
    "for row in range(N):\n",
    "    # print spaces\n",
    "    for col in range(num_spaces):\n",
    "        print(\" \", end=\" \")\n",
    "    # print stars\n",
    "    for col in range(num_stars):\n",
    "        print(\"*\", end=\" \")\n",
    "\n",
    "    # prepare for next row\n",
    "    num_spaces -= 1\n",
    "    num_stars += 2\n",
    "    print()\n",
    "    "
   ]
  },
  {
   "cell_type": "code",
   "execution_count": 51,
   "metadata": {},
   "outputs": [
    {
     "output_type": "stream",
     "name": "stdout",
     "text": [
      "        1 \n      1 2 3 \n    1 2 3 4 5 \n  1 2 3 4 5 6 7 \n1 2 3 4 5 6 7 8 9 \n"
     ]
    }
   ],
   "source": [
    "N = 5\n",
    "num_spaces = N-1\n",
    "num_stars = 1\n",
    "for row in range(N):\n",
    "    # print spaces\n",
    "    for col in range(num_spaces):\n",
    "        print(\" \", end=\" \")\n",
    "    # print stars\n",
    "    for col in range(num_stars):\n",
    "        print(col+1, end=\" \")\n",
    "\n",
    "    # prepare for next row\n",
    "    num_spaces -= 1\n",
    "    num_stars += 2\n",
    "    print()"
   ]
  },
  {
   "cell_type": "code",
   "execution_count": 55,
   "metadata": {},
   "outputs": [
    {
     "output_type": "stream",
     "name": "stdout",
     "text": [
      "        * \n      * * \n    * * * \n  * * * * \n* * * * * \n"
     ]
    }
   ],
   "source": [
    "N = 5\n",
    "for row in range(N):\n",
    "    # print spaces\n",
    "    for col in range(N-row-1):\n",
    "        print(\" \", end=\" \")\n",
    "    # print stars\n",
    "    for col in range(row+1):\n",
    "        print(\"*\", end=\" \")\n",
    "\n",
    "    # prepare for next row\n",
    "    print()"
   ]
  },
  {
   "cell_type": "code",
   "execution_count": null,
   "metadata": {},
   "outputs": [],
   "source": [
    "N = 4\n",
    "| 1 2 3 4 | 1 2 3 4 | 1 2 3 4 | 1 2 3 4 |  \n",
    "| 1 2 3 4 | 1 2 3 4 | 1 2 3 4 | 1 2 3 4 |  \n",
    "| 1 2 3 4 | 1 2 3 4 | 1 2 3 4 | 1 2 3 4 |  \n",
    "| 1 2 3 4 | 1 2 3 4 | 1 2 3 4 | 1 2 3 4 |  \n",
    "  \n",
    "N = 3  \n",
    "| 1 2 3 | 1 2 3 | 1 2 3 |  \n",
    "| 1 2 3 | 1 2 3 | 1 2 3 |  \n",
    "| 1 2 3 | 1 2 3 | 1 2 3 |  \n"
   ]
  },
  {
   "cell_type": "code",
   "execution_count": 62,
   "metadata": {},
   "outputs": [
    {
     "output_type": "stream",
     "name": "stdout",
     "text": [
      "| 1 2 3 4 | 1 2 3 4 | 1 2 3 4 | 1 2 3 4 | \n| 1 2 3 4 | 1 2 3 4 | 1 2 3 4 | 1 2 3 4 | \n| 1 2 3 4 | 1 2 3 4 | 1 2 3 4 | 1 2 3 4 | \n| 1 2 3 4 | 1 2 3 4 | 1 2 3 4 | 1 2 3 4 | \n"
     ]
    }
   ],
   "source": [
    "N = 4\n",
    "for row in range(N):\n",
    "    print(\"|\", end = \" \")\n",
    "    for col in range(N):\n",
    "        for val in range(N):\n",
    "            print(val+1, end=\" \")\n",
    "        print(\"|\", end=\" \")\n",
    "    print() # next row"
   ]
  },
  {
   "cell_type": "code",
   "execution_count": null,
   "metadata": {},
   "outputs": [],
   "source": []
  },
  {
   "cell_type": "code",
   "execution_count": null,
   "metadata": {},
   "outputs": [],
   "source": []
  },
  {
   "cell_type": "code",
   "execution_count": null,
   "metadata": {},
   "outputs": [],
   "source": []
  },
  {
   "cell_type": "code",
   "execution_count": null,
   "metadata": {},
   "outputs": [],
   "source": []
  },
  {
   "cell_type": "code",
   "execution_count": null,
   "metadata": {},
   "outputs": [],
   "source": []
  },
  {
   "cell_type": "code",
   "execution_count": null,
   "metadata": {},
   "outputs": [],
   "source": []
  }
 ],
 "metadata": {
  "kernelspec": {
   "display_name": "Python 3",
   "language": "python",
   "name": "python3"
  },
  "language_info": {
   "codemirror_mode": {
    "name": "ipython",
    "version": 3
   },
   "file_extension": ".py",
   "mimetype": "text/x-python",
   "name": "python",
   "nbconvert_exporter": "python",
   "pygments_lexer": "ipython3",
   "version": "3.8.3-final"
  }
 },
 "nbformat": 4,
 "nbformat_minor": 4
}