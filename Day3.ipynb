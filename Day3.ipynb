{
 "metadata": {
  "language_info": {
   "codemirror_mode": {
    "name": "ipython",
    "version": 3
   },
   "file_extension": ".py",
   "mimetype": "text/x-python",
   "name": "python",
   "nbconvert_exporter": "python",
   "pygments_lexer": "ipython3",
   "version": "3.8.3-final"
  },
  "orig_nbformat": 2,
  "kernelspec": {
   "name": "python3",
   "display_name": "Python 3",
   "language": "python"
  }
 },
 "nbformat": 4,
 "nbformat_minor": 2,
 "cells": [
  {
   "source": [
    "# Day 3 (3-Feb-2021)\n",
    "## Lecture 5  \n",
    "### Data Structures in Python\n",
    "- List\n",
    "- Dictionary\n",
    "- Tuple\n",
    "- Set\n",
    "- How to create, access elements, methods, iterating over collections\n",
    "- Mutability/ Immutability"
   ],
   "cell_type": "markdown",
   "metadata": {}
  },
  {
   "source": [
    "## List\n",
    "- Create empty list\n",
    "- List Indexing: Positive, Negative\n",
    "- Accessing elements\n",
    "- Methods: Append, insert, remove, sort, pop\n",
    "- List slicing\n",
    "- How to iterate over list items\n",
    "- List comprehension\n",
    "- Reverse a list"
   ],
   "cell_type": "markdown",
   "metadata": {}
  },
  {
   "cell_type": "code",
   "execution_count": 18,
   "metadata": {},
   "outputs": [
    {
     "output_type": "stream",
     "name": "stdout",
     "text": [
      "0\n<class 'list'>\n"
     ]
    }
   ],
   "source": [
    "# create\n",
    "l = [] # empty\n",
    "print(len(l))\n",
    "print(type(l))"
   ]
  },
  {
   "cell_type": "code",
   "execution_count": 20,
   "metadata": {},
   "outputs": [
    {
     "output_type": "stream",
     "name": "stdout",
     "text": [
      "[35, 46, 78, 65, 90, 100]\n65\n6\n"
     ]
    }
   ],
   "source": [
    "# list of numbrs\n",
    "l_num = [35, 46, 78, 65, 90, 100]\n",
    "print(l_num)\n",
    "print(l_num[3]) # 65\n",
    "# print(l_num[6]) # give indexError, out of range\n",
    "print(len(l_num)) #6"
   ]
  },
  {
   "cell_type": "code",
   "execution_count": 25,
   "metadata": {},
   "outputs": [
    {
     "output_type": "stream",
     "name": "stdout",
     "text": [
      "mango\napple\nbanana\nwatermelon\n\nmango\napple\nbanana\nwatermelon\n"
     ]
    }
   ],
   "source": [
    "# iterate over list items\n",
    "fruits = [\"mango\", \"apple\", \"banana\", \"watermelon\"]\n",
    "for x in fruits:\n",
    "    print(x)\n",
    "print()\n",
    "\n",
    "# iterate over the index of the items\n",
    "for  i in range(len(fruits)):\n",
    "    print(fruits[i])"
   ]
  },
  {
   "cell_type": "code",
   "execution_count": 28,
   "metadata": {},
   "outputs": [
    {
     "output_type": "stream",
     "name": "stdout",
     "text": [
      "watermelon\nbanana\napple\nmango\n"
     ]
    }
   ],
   "source": [
    "# negative indexing\n",
    "fruits = [\"mango\", \"apple\", \"banana\", \"watermelon\"]\n",
    "fruits[-3]\n",
    "\n",
    "for i in range(-1, -len(fruits)-1, -1):\n",
    "    print(fruits[i])"
   ]
  },
  {
   "cell_type": "code",
   "execution_count": 31,
   "metadata": {},
   "outputs": [
    {
     "output_type": "stream",
     "name": "stdout",
     "text": [
      "['mango', 'apple', 'banana', 'watermelon', 'guava', 'guava']\n['mango', 'apple', 'banana', 'watermelon', 'guava', 'guava', 'pineapple']\n"
     ]
    }
   ],
   "source": [
    "# methods\n",
    "# if you want to add new items in a list\n",
    "fruits.append(\"guava\")\n",
    "print(fruits)\n",
    "fruits.append(\"pineapple\")\n",
    "print(fruits)"
   ]
  },
  {
   "cell_type": "code",
   "execution_count": 33,
   "metadata": {},
   "outputs": [
    {
     "output_type": "stream",
     "name": "stdout",
     "text": [
      "['mango', 'apple', 'banana', 'watermelon', 'guava', 'guava', 'pineapple']\n['mango', 'apple', 'banana', 'mango', 'watermelon', 'guava', 'guava', 'pineapple']\n8\n"
     ]
    }
   ],
   "source": [
    "# insert method\n",
    "print(fruits)\n",
    "fruits.insert(3,\"mango\")\n",
    "print(fruits)\n",
    "print(len(fruits))"
   ]
  },
  {
   "cell_type": "code",
   "execution_count": 39,
   "metadata": {},
   "outputs": [
    {
     "output_type": "stream",
     "name": "stdout",
     "text": [
      "1 2\n\nmango 2\napple 1\nbanana 1\nmango 2\nwatermelon 1\nguava 2\nguava 2\npineapple 1\n"
     ]
    }
   ],
   "source": [
    "# count\n",
    "print(fruits.count(\"banana\"), fruits.count(\"mango\"))\n",
    "\n",
    "print()\n",
    "\n",
    "for f in fruits:\n",
    "    print(f, fruits.count(f))"
   ]
  },
  {
   "cell_type": "code",
   "execution_count": 41,
   "metadata": {},
   "outputs": [
    {
     "output_type": "stream",
     "name": "stdout",
     "text": [
      "pineapple\nlength of fruits list: 7\n"
     ]
    }
   ],
   "source": [
    "last_fruit = fruits.pop()\n",
    "print(last_fruit)\n",
    "print(\"length of fruits list:\", len(fruits))"
   ]
  },
  {
   "cell_type": "code",
   "execution_count": 43,
   "metadata": {},
   "outputs": [
    {
     "output_type": "stream",
     "name": "stdout",
     "text": [
      "['mango', 'apple', 'banana', 'mango', 'watermelon', 'guava', 'guava']\n['apple', 'banana', 'mango', 'watermelon', 'guava', 'guava']\n"
     ]
    }
   ],
   "source": [
    "print(fruits)\n",
    "fruits.remove(\"mango\")\n",
    "print(fruits)"
   ]
  },
  {
   "source": [
    "## How to get help in Python?\n",
    "- help: gives the Documentation \n",
    "- dir: when called on an object returns list of its attributes and methods "
   ],
   "cell_type": "markdown",
   "metadata": {}
  },
  {
   "cell_type": "code",
   "execution_count": 34,
   "metadata": {},
   "outputs": [
    {
     "output_type": "execute_result",
     "data": {
      "text/plain": [
       "['__add__',\n",
       " '__class__',\n",
       " '__contains__',\n",
       " '__delattr__',\n",
       " '__delitem__',\n",
       " '__dir__',\n",
       " '__doc__',\n",
       " '__eq__',\n",
       " '__format__',\n",
       " '__ge__',\n",
       " '__getattribute__',\n",
       " '__getitem__',\n",
       " '__gt__',\n",
       " '__hash__',\n",
       " '__iadd__',\n",
       " '__imul__',\n",
       " '__init__',\n",
       " '__init_subclass__',\n",
       " '__iter__',\n",
       " '__le__',\n",
       " '__len__',\n",
       " '__lt__',\n",
       " '__mul__',\n",
       " '__ne__',\n",
       " '__new__',\n",
       " '__reduce__',\n",
       " '__reduce_ex__',\n",
       " '__repr__',\n",
       " '__reversed__',\n",
       " '__rmul__',\n",
       " '__setattr__',\n",
       " '__setitem__',\n",
       " '__sizeof__',\n",
       " '__str__',\n",
       " '__subclasshook__',\n",
       " 'append',\n",
       " 'clear',\n",
       " 'copy',\n",
       " 'count',\n",
       " 'extend',\n",
       " 'index',\n",
       " 'insert',\n",
       " 'pop',\n",
       " 'remove',\n",
       " 'reverse',\n",
       " 'sort']"
      ]
     },
     "metadata": {},
     "execution_count": 34
    }
   ],
   "source": [
    "dir(list)"
   ]
  },
  {
   "cell_type": "code",
   "execution_count": 40,
   "metadata": {},
   "outputs": [
    {
     "output_type": "stream",
     "name": "stdout",
     "text": [
      "Help on method_descriptor:\n\npop(self, index=-1, /)\n    Remove and return item at index (default last).\n    \n    Raises IndexError if list is empty or index is out of range.\n\n"
     ]
    }
   ],
   "source": [
    "help(list.pop)"
   ]
  },
  {
   "source": [
    "## Dictionary\n",
    "Represents a map or Collection of key value pairs\n",
    "- Create dictionary:\n",
    "    - Empty\n",
    "    - Initialize with some key value pairs\n",
    "    - creating dictionary from list of keys and values\n",
    "- How to index dictionary, add new keys\n",
    "- Methods: keys(), get(), items(), pop()\n",
    "- How to iterate over dictionary items"
   ],
   "cell_type": "markdown",
   "metadata": {}
  },
  {
   "cell_type": "code",
   "execution_count": 44,
   "metadata": {},
   "outputs": [
    {
     "output_type": "stream",
     "name": "stdout",
     "text": [
      "{1: 'Ankit', 2: 'Ankit', 3: 'Parul', 4: 'Siddhant', 7: 'Smriti'}\n"
     ]
    }
   ],
   "source": [
    "d = {} # empty\n",
    "\n",
    "# create a dict with some key: value (rollno : name) pairs\n",
    "d = {\n",
    "    1 : \"Ankit\",\n",
    "    2: \"Ankit\",\n",
    "    3 : \"Parul\",\n",
    "    4 : \"Siddhant\",\n",
    "    7 : \"Smriti\"\n",
    "}\n",
    "print(d)"
   ]
  },
  {
   "cell_type": "code",
   "execution_count": 45,
   "metadata": {},
   "outputs": [
    {
     "output_type": "stream",
     "name": "stdout",
     "text": [
      "['pulses', 'rice', 'floor', 'chhole']\n"
     ]
    }
   ],
   "source": [
    "store = {\"edible\" :[\"pulses\", \"rice\", \"floor\", \"chhole\"],\n",
    "         \"non_edible\" : [\"soap\", \"brush\", \"toothpaste\"]\n",
    "}\n",
    "print(store[\"edible\"])"
   ]
  },
  {
   "cell_type": "code",
   "execution_count": 46,
   "metadata": {},
   "outputs": [
    {
     "output_type": "stream",
     "name": "stdout",
     "text": [
      "{1: 'Ankit', 2: 'Ankit', 3: 'Parul', 4: 'Siddhant', 7: 'Smriti'}\n"
     ]
    }
   ],
   "source": [
    "print(d)"
   ]
  },
  {
   "cell_type": "code",
   "execution_count": 47,
   "metadata": {},
   "outputs": [
    {
     "output_type": "stream",
     "name": "stdout",
     "text": [
      "Ankit\n{1: 'Ankit', 2: 'Anish', 3: 'Parul', 4: 'Siddhant', 7: 'Smriti'}\n"
     ]
    }
   ],
   "source": [
    "print(d[2])\n",
    "# update a value corresponding to a key\n",
    "d[2] = \"Anish\"\n",
    "print(d)"
   ]
  },
  {
   "cell_type": "code",
   "execution_count": 48,
   "metadata": {},
   "outputs": [
    {
     "output_type": "stream",
     "name": "stdout",
     "text": [
      "{1: 'Ankit', 2: 'Anish', 3: 'Parul', 4: 'Siddhant', 7: 'Smriti', 5: 'Simi'}\n"
     ]
    }
   ],
   "source": [
    "# add a new dictionary item\n",
    "d[5] = \"Simi\"\n",
    "print(d)"
   ]
  },
  {
   "cell_type": "code",
   "execution_count": 49,
   "metadata": {},
   "outputs": [
    {
     "output_type": "stream",
     "name": "stdout",
     "text": [
      "{1: 'Ankit', 2: 'Anish', 3: 'Parul', 4: 'Siddhant', 7: 'Smriti'}\n"
     ]
    }
   ],
   "source": [
    "# delete a k:v pair\n",
    "del d[5]\n",
    "print(d)"
   ]
  },
  {
   "cell_type": "code",
   "execution_count": 51,
   "metadata": {},
   "outputs": [
    {
     "output_type": "stream",
     "name": "stdout",
     "text": [
      "1 Ankit\n2 Anish\n3 Parul\n4 Siddhant\n7 Smriti\n"
     ]
    }
   ],
   "source": [
    "# iterate over dictionary items (k,v)\n",
    "# way 1\n",
    "for k,v in d.items():\n",
    "    print(k, v)"
   ]
  },
  {
   "cell_type": "code",
   "execution_count": 54,
   "metadata": {},
   "outputs": [
    {
     "output_type": "stream",
     "name": "stdout",
     "text": [
      "dict_keys([1, 2, 3, 4, 7])\n1 Ankit\n2 Anish\n3 Parul\n4 Siddhant\n7 Smriti\n"
     ]
    }
   ],
   "source": [
    "# if  you want to get the all keys in a dictionary\n",
    "# iterate way 2\n",
    "print(d.keys())\n",
    "for k in d.keys():\n",
    "    print(k, d[k])"
   ]
  },
  {
   "cell_type": "code",
   "execution_count": 57,
   "metadata": {},
   "outputs": [
    {
     "output_type": "stream",
     "name": "stdout",
     "text": [
      "<class 'list'>\n{'edible': ['pulses', 'rice', 'floor', 'chhole', 'rajma'], 'non_edible': ['soap', 'brush', 'toothpaste']}\n"
     ]
    }
   ],
   "source": [
    "print(type(store[\"edible\"]))\n",
    "store[\"edible\"].append(\"rajma\")\n",
    "print(store)"
   ]
  },
  {
   "source": [
    "## Lecture 6"
   ],
   "cell_type": "markdown",
   "metadata": {}
  },
  {
   "source": [
    "## Tuple\n",
    "- A tuple consists of a number of values separated by commas\n",
    "- Creation:\n",
    "    - empty\n",
    "    - with values\n",
    "- Tuples can be nested\n",
    "- Accessing tuple items\n",
    "- Tuples are immutable\n",
    "- Packing/ unpacking\n",
    "- Length of tuple"
   ],
   "cell_type": "markdown",
   "metadata": {}
  },
  {
   "cell_type": "code",
   "execution_count": 58,
   "metadata": {},
   "outputs": [
    {
     "output_type": "stream",
     "name": "stdout",
     "text": [
      "<class 'tuple'>\n2\n(2, 3)\n"
     ]
    }
   ],
   "source": [
    "t = 2,3\n",
    "print(type(t))\n",
    "print(len(t))\n",
    "print(t)"
   ]
  },
  {
   "cell_type": "code",
   "execution_count": 59,
   "metadata": {},
   "outputs": [
    {
     "output_type": "stream",
     "name": "stdout",
     "text": [
      "<class 'tuple'>\n"
     ]
    }
   ],
   "source": [
    "t = ()\n",
    "print(type(t))"
   ]
  },
  {
   "cell_type": "code",
   "execution_count": 60,
   "metadata": {},
   "outputs": [
    {
     "output_type": "stream",
     "name": "stdout",
     "text": [
      "(2, 3, 5, 7)\n"
     ]
    }
   ],
   "source": [
    "t = 2, 3, 5 , 7 # packing, that you are packing comma separated values in a tuple\n",
    "print(t)"
   ]
  },
  {
   "cell_type": "code",
   "execution_count": 61,
   "metadata": {},
   "outputs": [
    {
     "output_type": "stream",
     "name": "stdout",
     "text": [
      "2 3 5 7\n"
     ]
    }
   ],
   "source": [
    "u, v, w, x = t # unpacking\n",
    "print(u,v, w, x)"
   ]
  },
  {
   "cell_type": "code",
   "execution_count": 65,
   "metadata": {},
   "outputs": [
    {
     "output_type": "stream",
     "name": "stdout",
     "text": [
      "400\n"
     ]
    }
   ],
   "source": [
    "t = (400, 500) # width, height\n",
    "print(t[0])\n",
    "w, h = t # unpacking\n",
    "\n",
    "# t[0] = 600 # this gives TypeError, tuple are immutable"
   ]
  },
  {
   "cell_type": "code",
   "execution_count": 66,
   "metadata": {},
   "outputs": [
    {
     "output_type": "stream",
     "name": "stdout",
     "text": [
      "((2, 3), (4, 5))\n"
     ]
    }
   ],
   "source": [
    "t = ((2,3), (4,5)) # nested tuple\n",
    "print(t)"
   ]
  },
  {
   "source": [
    "## Sets\n",
    "- Unordered collection with no duplicate elements.\n",
    "- Basic uses include membership testing and eliminating duplicate entries.\n",
    "- Create empty set using set()\n",
    "- Set elements are inaccessible"
   ],
   "cell_type": "markdown",
   "metadata": {}
  },
  {
   "cell_type": "code",
   "execution_count": 68,
   "metadata": {},
   "outputs": [
    {
     "output_type": "stream",
     "name": "stdout",
     "text": [
      "{1, 2, 3, 4}\n<class 'set'>\n"
     ]
    }
   ],
   "source": [
    "# create\n",
    "s = set() # empty  set\n",
    "s = {1,2,3,4}\n",
    "print(s)\n",
    "print(type(s))\n",
    "s[0]"
   ]
  },
  {
   "cell_type": "code",
   "execution_count": 69,
   "metadata": {},
   "outputs": [
    {
     "output_type": "stream",
     "name": "stdout",
     "text": [
      "[89, 2, 4]\n"
     ]
    }
   ],
   "source": [
    "l = [1,2 ,4]\n",
    "l[0] = 89\n",
    "print(l)"
   ]
  },
  {
   "cell_type": "code",
   "execution_count": 71,
   "metadata": {},
   "outputs": [
    {
     "output_type": "stream",
     "name": "stdout",
     "text": [
      "<class 'dict'>\n<class 'set'> {1, 2, 4, 5, 7}\n"
     ]
    }
   ],
   "source": [
    "d = {\"a\":1, \n",
    "      \"b\": 2}\n",
    "print(type(d))\n",
    "d = {1,2, 4, 4, 4, 5, 5, 7} # set contains only unique elements\n",
    "print(type(d), d)"
   ]
  },
  {
   "cell_type": "code",
   "execution_count": 73,
   "metadata": {},
   "outputs": [
    {
     "output_type": "stream",
     "name": "stdout",
     "text": [
      "{'watermelon', 'guava', 'banana', 'mango', 'apple'}\n"
     ]
    }
   ],
   "source": [
    "fruits\n",
    "print(set(fruits))"
   ]
  },
  {
   "source": [
    "## Questions:\n",
    "1. Sum the elements of a list [12, 56, 34, 23, 90, 1]  \n",
    "2. Find the largest in a given list  \n",
    "3. Find the sum of odd and even numbers of a list  \n",
    "4. Sum the elements of a 2d list  "
   ],
   "cell_type": "markdown",
   "metadata": {}
  },
  {
   "cell_type": "code",
   "execution_count": 82,
   "metadata": {},
   "outputs": [
    {
     "output_type": "stream",
     "name": "stdout",
     "text": [
      "216\n\ni: 0, s: 12\ni: 1, s: 68\ni: 2, s: 102\ni: 3, s: 125\ni: 4, s: 215\ni: 5, s: 216\n216\n"
     ]
    }
   ],
   "source": [
    "# find the sum of list elements\n",
    "l = [12, 56, 34, 23, 90, 1]\n",
    "# way 1 : iterate over the elements\n",
    "\n",
    "s = 0\n",
    "for el in l:\n",
    "    s += el\n",
    "print(s)\n",
    "print()\n",
    "\n",
    "# way 2: iterating over the list indices\n",
    "s = 0\n",
    "for i in range(len(l)): \n",
    "    s += l[i]\n",
    "    print(f\"i: {i}, s: {s}\")\n",
    "print(s)"
   ]
  },
  {
   "cell_type": "code",
   "execution_count": 83,
   "metadata": {},
   "outputs": [
    {
     "output_type": "stream",
     "name": "stdout",
     "text": [
      "90\n"
     ]
    }
   ],
   "source": [
    "# 2. Find the largest element\n",
    "l = [12, 56, 34, 23, 90, 1]\n",
    "maximum = l[0]\n",
    "for el in l[1:]:\n",
    "    if maximum < el: # if max is smaller than list element, then  update\n",
    "        maximum = el \n",
    "print(maximum)\n"
   ]
  },
  {
   "cell_type": "code",
   "execution_count": 85,
   "metadata": {},
   "outputs": [
    {
     "output_type": "stream",
     "name": "stdout",
     "text": [
      "Odd: 24, Even: 192\n192\n"
     ]
    }
   ],
   "source": [
    "# 3. Find the sum of odd and even numbers of a list\n",
    "l = [12, 56, 34, 23, 90, 1]\n",
    "odd_sum = 0\n",
    "even_sum = 0\n",
    "for el in l:\n",
    "    # check if even\n",
    "    if el%2 == 0:\n",
    "        even_sum += el\n",
    "    else:\n",
    "        odd_sum += el\n",
    "print(f\"Odd: {odd_sum}, Even: {even_sum}\")\n",
    "print(sum([12, 56, 34, 90]))"
   ]
  },
  {
   "cell_type": "code",
   "execution_count": 86,
   "metadata": {},
   "outputs": [
    {
     "output_type": "stream",
     "name": "stdout",
     "text": [
      "31\n"
     ]
    }
   ],
   "source": [
    "# 4. Sum of 2d list\n",
    "l = [[1,2,3],\n",
    "    [5, 7,6],\n",
    "    [3, 4]]\n",
    "    \n",
    "total = 0\n",
    "for li in l:\n",
    "    for el in li:\n",
    "        total += el\n",
    "print(total)"
   ]
  },
  {
   "cell_type": "code",
   "execution_count": null,
   "metadata": {},
   "outputs": [],
   "source": []
  },
  {
   "source": [
    "## Functions\n",
    "- How to create functions\n",
    "- Return a value/ more than one value\n",
    "- Default parameters\n"
   ],
   "cell_type": "markdown",
   "metadata": {}
  },
  {
   "cell_type": "code",
   "execution_count": null,
   "metadata": {},
   "outputs": [],
   "source": [
    "# Find sum of even elements and also return the positionsof those element\n",
    "# Example:\n",
    "# l = [4, 5, 7, 8, 34, 54, 70, 3, 21]\n",
    "# even_sum, pos\n",
    "# even_sum : 170\n",
    "# pos: [0,3,4,5,6]  "
   ]
  },
  {
   "cell_type": "code",
   "execution_count": 88,
   "metadata": {},
   "outputs": [],
   "source": [
    "def even_sum_position(l):\n",
    "    even_sum = 0\n",
    "    pos = []\n",
    "    i = 0\n",
    "    for el in l:\n",
    "        if el % 2 == 0: # el is even\n",
    "            even_sum += el\n",
    "            pos.append(i)\n",
    "        i += 1\n",
    "    return even_sum, pos"
   ]
  },
  {
   "cell_type": "code",
   "execution_count": 89,
   "metadata": {},
   "outputs": [
    {
     "output_type": "stream",
     "name": "stdout",
     "text": [
      "(170, [0, 3, 4, 5, 6])\n"
     ]
    }
   ],
   "source": [
    "l = [4, 5, 7, 8, 34, 54, 70, 3, 21]\n",
    "print(even_sum_position(l))"
   ]
  },
  {
   "cell_type": "code",
   "execution_count": 90,
   "metadata": {},
   "outputs": [
    {
     "output_type": "stream",
     "name": "stdout",
     "text": [
      "8 15\n7 10\n"
     ]
    }
   ],
   "source": [
    "# function definition\n",
    "def sum_prod(a, b = 2):\n",
    "    return a+b, a*b\n",
    "\n",
    "# func call\n",
    "s , p = sum_prod(5, 3) # unpacking\n",
    "print(s, p)\n",
    "\n",
    "s, p = sum_prod(5)\n",
    "print(s, p)"
   ]
  },
  {
   "cell_type": "code",
   "execution_count": null,
   "metadata": {},
   "outputs": [],
   "source": []
  }
 ]
}