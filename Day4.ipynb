{
 "metadata": {
  "language_info": {
   "codemirror_mode": {
    "name": "ipython",
    "version": 3
   },
   "file_extension": ".py",
   "mimetype": "text/x-python",
   "name": "python",
   "nbconvert_exporter": "python",
   "pygments_lexer": "ipython3",
   "version": "3.8.3-final"
  },
  "orig_nbformat": 2,
  "kernelspec": {
   "name": "python3",
   "display_name": "Python 3",
   "language": "python"
  }
 },
 "nbformat": 4,
 "nbformat_minor": 2,
 "cells": [
  {
   "source": [
    "# Day 4 (4-Feb-2021)\n",
    "## Lecture 7  \n",
    "\n"
   ],
   "cell_type": "markdown",
   "metadata": {}
  },
  {
   "source": [
    "## Recursion\n",
    "## 1. Factorial"
   ],
   "cell_type": "markdown",
   "metadata": {}
  },
  {
   "cell_type": "code",
   "execution_count": 9,
   "metadata": {},
   "outputs": [],
   "source": [
    "def fact(n):\n",
    "    # base case\n",
    "    if n == 0:\n",
    "        ans = 1\n",
    "        print(f\"n: {n}, ans: {ans}\")\n",
    "        return ans    \n",
    "    \n",
    "    # recursive case\n",
    "    smallans = fact(n-1)\n",
    "    ans = n*smallans\n",
    "    print(f\"n: {n}, smallans: {smallans}, ans: {ans}\")\n",
    "    return ans\n"
   ]
  },
  {
   "cell_type": "code",
   "execution_count": 10,
   "metadata": {},
   "outputs": [
    {
     "output_type": "stream",
     "name": "stdout",
     "text": [
      "n: 0, ans: 1\nn: 1, smallans: 1, ans: 1\nn: 2, smallans: 1, ans: 2\nn: 3, smallans: 2, ans: 6\nn: 4, smallans: 6, ans: 24\nn: 5, smallans: 24, ans: 120\n120\n"
     ]
    }
   ],
   "source": [
    "print(fact(5))"
   ]
  },
  {
   "source": [
    "## 2. Power"
   ],
   "cell_type": "markdown",
   "metadata": {}
  },
  {
   "cell_type": "code",
   "execution_count": 20,
   "metadata": {},
   "outputs": [],
   "source": [
    "def power(n, p):\n",
    "    # base case\n",
    "    if p == 0:\n",
    "        ans = 1\n",
    "        print(f\"n: {n}, p: {p}, ans: {ans}\")\n",
    "        return ans\n",
    "\n",
    "    # recursive case\n",
    "    smallans = power(n, p-1)\n",
    "    ans = n*smallans\n",
    "    print(f\"n: {n}, p: {p}, smallans: {smallans}, ans: {n}*{smallans} = {ans}\")\n",
    "\n",
    "    return ans\n",
    "\n",
    "def power2(n,p):\n",
    "    # base case\n",
    "    if p==0:\n",
    "        return 1\n",
    "    \n",
    "    # recursive case\n",
    "    return power2(n,p-1)*n"
   ]
  },
  {
   "cell_type": "code",
   "execution_count": 21,
   "metadata": {},
   "outputs": [
    {
     "output_type": "stream",
     "name": "stdout",
     "text": [
      "n: 2, p: 0, ans: 1\nn: 2, p: 1, smallans: 1, ans: 2*1 = 2\nn: 2, p: 2, smallans: 2, ans: 2*2 = 4\nn: 2, p: 3, smallans: 4, ans: 2*4 = 8\nn: 2, p: 4, smallans: 8, ans: 2*8 = 16\nn: 2, p: 5, smallans: 16, ans: 2*16 = 32\n32\n\n32\n"
     ]
    }
   ],
   "source": [
    "print(power(2,5))\n",
    "print()\n",
    "print(power2(2,5))"
   ]
  },
  {
   "source": [
    "## 3. Nth Fibonacci\n",
    "\n",
    "0 1 1 2  3 5 8 13 21 34 ......"
   ],
   "cell_type": "markdown",
   "metadata": {}
  },
  {
   "cell_type": "code",
   "execution_count": 22,
   "metadata": {},
   "outputs": [],
   "source": [
    "def fib(n):\n",
    "    # base case\n",
    "    if n == 0 or n == 1:\n",
    "        return n\n",
    "\n",
    "    # recursive case\n",
    "    return fib(n-1) + fib(n-2)\n"
   ]
  },
  {
   "cell_type": "code",
   "execution_count": 25,
   "metadata": {},
   "outputs": [
    {
     "output_type": "execute_result",
     "data": {
      "text/plain": [
       "5"
      ]
     },
     "metadata": {},
     "execution_count": 25
    }
   ],
   "source": [
    "fib(5)"
   ]
  },
  {
   "source": [
    "## 4. Sum of elements of a list"
   ],
   "cell_type": "markdown",
   "metadata": {}
  },
  {
   "cell_type": "code",
   "execution_count": 40,
   "metadata": {},
   "outputs": [],
   "source": [
    "def list_sum(l):\n",
    "    # base case: list is empty, len = 0\n",
    "    if len(l) == 0:\n",
    "        ans = 0\n",
    "        print(f\"l: {l}\")\n",
    "        print(f\"\\tans: {ans}\")\n",
    "        return ans\n",
    "\n",
    "    # recursive case\n",
    "    smallans = list_sum(l[1:])\n",
    "    ans = l[0] + smallans\n",
    "    print(f\"l: {l}\")\n",
    "    print(f\"\\tl[0]: {l[0]}, smallans: {smallans}, ans: {ans}\")\n",
    "    \n",
    "    return ans \n",
    "\n",
    "def list_sum2(l):\n",
    "\n",
    "    # base case\n",
    "    if len(l) == 0:\n",
    "        return 0\n",
    "\n",
    "    # recursive case\n",
    "    return l[0] + list_sum2(l[1:])"
   ]
  },
  {
   "cell_type": "code",
   "execution_count": 38,
   "metadata": {},
   "outputs": [
    {
     "output_type": "stream",
     "name": "stdout",
     "text": [
      "l: []\n\tans: 0\nl: [98]\n\tl[0]: 98, smallans: 0, ans: 98\nl: [5, 98]\n\tl[0]: 5, smallans: 98, ans: 103\nl: [4, 5, 98]\n\tl[0]: 4, smallans: 103, ans: 107\nl: [3, 4, 5, 98]\n\tl[0]: 3, smallans: 107, ans: 110\nl: [1, 3, 4, 5, 98]\n\tl[0]: 1, smallans: 110, ans: 111\n111\n111\n"
     ]
    }
   ],
   "source": [
    "l = [1, 3, 4, 5, 98]\n",
    "print(list_sum(l))\n",
    "print(sum(l))"
   ]
  },
  {
   "cell_type": "code",
   "execution_count": 41,
   "metadata": {},
   "outputs": [
    {
     "output_type": "stream",
     "name": "stdout",
     "text": [
      "111\n"
     ]
    }
   ],
   "source": [
    "print(list_sum2(l))"
   ]
  },
  {
   "source": [
    "## 5. Find minimum in a list"
   ],
   "cell_type": "markdown",
   "metadata": {}
  },
  {
   "cell_type": "code",
   "execution_count": 43,
   "metadata": {},
   "outputs": [],
   "source": [
    "def find_min(l):\n",
    "    # base case\n",
    "    if len(l) == 1:\n",
    "        return l[0]\n",
    "\n",
    "    ans = find_min(l[1:])\n",
    "    if l[0] < ans:\n",
    "        ans = l[0]\n",
    "    \n",
    "    return ans"
   ]
  },
  {
   "cell_type": "code",
   "execution_count": 45,
   "metadata": {},
   "outputs": [
    {
     "output_type": "stream",
     "name": "stdout",
     "text": [
      "-3\n"
     ]
    }
   ],
   "source": [
    "l = [-2, 0, -1, -3, 5 , 7]\n",
    "print(find_min(l))"
   ]
  },
  {
   "source": [
    "# Lecture 8\n",
    "## Scope:\n",
    "    - the place where you assign a name in your source code determines the namespace it will live in, and hence its scope of visibility\n",
    "    - by default, all names assigned inside a function are associated with that function’s namespace, and no other\n",
    "    - Names assigned inside a def can only be seen by the code within that def.\n",
    "    - Names assigned inside a def do not clash with variables outside the def, even if the same names are used elsewhere."
   ],
   "cell_type": "markdown",
   "metadata": {}
  },
  {
   "cell_type": "code",
   "execution_count": 46,
   "metadata": {},
   "outputs": [
    {
     "output_type": "stream",
     "name": "stdout",
     "text": [
      "6\n7\n"
     ]
    }
   ],
   "source": [
    "n = 7 # global\n",
    "\n",
    "def func(n):\n",
    "    n = 6 # local\n",
    "    print(n)\n",
    "\n",
    "func(n) \n",
    "print(n) # global"
   ]
  },
  {
   "cell_type": "code",
   "execution_count": 49,
   "metadata": {},
   "outputs": [
    {
     "output_type": "stream",
     "name": "stdout",
     "text": [
      "78 4\n5\n3 5\n"
     ]
    }
   ],
   "source": [
    "x = 3 # global\n",
    "\n",
    "def func():\n",
    "    global y\n",
    "    y = 4 # global\n",
    "    x = 78 # local\n",
    "    print(x, y)\n",
    "\n",
    "    \n",
    "    y = 5\n",
    "    print(y)\n",
    "\n",
    "func()\n",
    "print(x, y) # global, global"
   ]
  },
  {
   "cell_type": "code",
   "execution_count": 51,
   "metadata": {},
   "outputs": [
    {
     "output_type": "stream",
     "name": "stdout",
     "text": [
      "2435882635392\n2435882635392\n[1, 2, 4, 7]\n"
     ]
    }
   ],
   "source": [
    "def func(l):\n",
    "    print(id(l))\n",
    "    l.append(7)\n",
    "\n",
    "\n",
    "l = [1, 2, 4]\n",
    "print(id(l))\n",
    "func(l)\n",
    "print(l)"
   ]
  },
  {
   "cell_type": "code",
   "execution_count": 54,
   "metadata": {},
   "outputs": [
    {
     "output_type": "stream",
     "name": "stdout",
     "text": [
      "140725462316960\n140725462319232\n140725462319168\n"
     ]
    }
   ],
   "source": [
    "\n",
    "\n",
    "def func(x):\n",
    "    x = 76\n",
    "    print(id(x))\n",
    "    x = 74\n",
    "    print(id(x))\n",
    "\n",
    "x = 5\n",
    "print(id(x))\n",
    "func(x)\n"
   ]
  },
  {
   "cell_type": "code",
   "execution_count": null,
   "metadata": {},
   "outputs": [],
   "source": []
  },
  {
   "cell_type": "code",
   "execution_count": 58,
   "metadata": {},
   "outputs": [
    {
     "output_type": "stream",
     "name": "stdout",
     "text": [
      "2435884868288\n2435884868288\n[3, 6] 2435884905664\n[3, 6, 5]\n[1, 2, 4, 7]\n"
     ]
    }
   ],
   "source": [
    "def func(l):\n",
    "    print(id(l))\n",
    "    l.append(7)\n",
    "    l = [3, 6] # new list\n",
    "    print(l, id(l))\n",
    "    l.append(5)\n",
    "    print(l)\n",
    "\n",
    "l = [1, 2, 4]\n",
    "print(id(l)) # address/ reference\n",
    "func(l)\n",
    "print(l)"
   ]
  },
  {
   "source": [
    "## File handling"
   ],
   "cell_type": "markdown",
   "metadata": {}
  },
  {
   "cell_type": "code",
   "execution_count": 60,
   "metadata": {},
   "outputs": [
    {
     "output_type": "stream",
     "name": "stdout",
     "text": [
      "This is a demo text.\n"
     ]
    }
   ],
   "source": [
    "f = open(\"demo.txt\", \"r\")\n",
    "content = f.read()\n",
    "print(content)\n",
    "f.close()"
   ]
  },
  {
   "cell_type": "code",
   "execution_count": 61,
   "metadata": {},
   "outputs": [],
   "source": [
    "# write something to a file\n",
    "f = open(\"demo.txt\", \"w\")\n",
    "f.write(\"This is a statement written using python file handling operations.\") # overwrites the initial content\n",
    "f.close()"
   ]
  },
  {
   "cell_type": "code",
   "execution_count": 63,
   "metadata": {},
   "outputs": [
    {
     "output_type": "stream",
     "name": "stdout",
     "text": [
      "This is a statement written using python file handling operations.\n"
     ]
    }
   ],
   "source": [
    "f = open(\"demo.txt\", \"r\")\n",
    "content = f.read()\n",
    "print(content)\n",
    "f.close()"
   ]
  },
  {
   "cell_type": "code",
   "execution_count": 64,
   "metadata": {},
   "outputs": [],
   "source": [
    "# append\n",
    "f = open(\"demo.txt\", \"a\")\n",
    "f.write(\"\\nThis is statement 2.\\n\")\n",
    "f.close()"
   ]
  },
  {
   "cell_type": "code",
   "execution_count": 67,
   "metadata": {},
   "outputs": [
    {
     "output_type": "stream",
     "name": "stdout",
     "text": [
      "<class 'str'>\n"
     ]
    }
   ],
   "source": [
    "f = open(\"demo.txt\", \"r\")\n",
    "content = f.read()\n",
    "print(type(content))"
   ]
  },
  {
   "cell_type": "code",
   "execution_count": 69,
   "metadata": {},
   "outputs": [
    {
     "output_type": "stream",
     "name": "stdout",
     "text": [
      "This is a statement written using python file handling operations.\n\n"
     ]
    }
   ],
   "source": [
    "f = open(\"demo.txt\", \"r\")\n",
    "content = f.readline()\n",
    "print(content)"
   ]
  },
  {
   "cell_type": "code",
   "execution_count": 70,
   "metadata": {},
   "outputs": [],
   "source": [
    "# storing data in tabular form (.csv)\n",
    "\n",
    "id = [1, 2, 3, 4]\n",
    "fname = [\"Ankit\", \"Babita\", \"Brij\", \"Sidhhant\"]\n",
    "lname = [\"Sharma\", \"Kapoor\", \"Sharma\", \"Chopra\"]"
   ]
  },
  {
   "cell_type": "code",
   "execution_count": 72,
   "metadata": {},
   "outputs": [],
   "source": [
    "# create a new file using w mode\n",
    "f = open(\"students.csv\", \"w\")\n",
    "f.write(\"roll_no, first_name, last_name\\n\")\n",
    "for i in range(len(id)):\n",
    "    # s = str(id[i])+ \", \" + fname[i] + \", \" + lname[i] + \"\\n\"\n",
    "    s = f\"{id[i]}, {fname[i]}, {lname[i]}\\n\"\n",
    "    f.write(s)\n",
    "f.close()"
   ]
  },
  {
   "source": [
    "## Exceptions"
   ],
   "cell_type": "markdown",
   "metadata": {}
  },
  {
   "cell_type": "code",
   "execution_count": 76,
   "metadata": {},
   "outputs": [],
   "source": [
    "x = 67\n",
    "# print(x/0) # this gives ZeroDivisionError"
   ]
  },
  {
   "cell_type": "code",
   "execution_count": 78,
   "metadata": {},
   "outputs": [
    {
     "output_type": "stream",
     "name": "stdout",
     "text": [
      "Hello12\n"
     ]
    }
   ],
   "source": [
    "s = \"Hello\"\n",
    "# s += 12 #  This gives TypeError\n",
    "s += str(12)\n",
    "print(s)"
   ]
  },
  {
   "cell_type": "code",
   "execution_count": 80,
   "metadata": {},
   "outputs": [
    {
     "output_type": "stream",
     "name": "stdout",
     "text": [
      "Riya\n"
     ]
    }
   ],
   "source": [
    "# print(name) # This gives NameError: var not defined\n",
    "name = \"Riya\"\n",
    "print(name)"
   ]
  },
  {
   "cell_type": "code",
   "execution_count": 83,
   "metadata": {},
   "outputs": [
    {
     "output_type": "stream",
     "name": "stdout",
     "text": [
      "7\n"
     ]
    }
   ],
   "source": [
    "l = [1, 4, 7]\n",
    "# print(l[5]) # IndexError: list index out of range\n",
    "print(l[2])"
   ]
  },
  {
   "cell_type": "code",
   "execution_count": 86,
   "metadata": {},
   "outputs": [
    {
     "output_type": "stream",
     "name": "stdout",
     "text": [
      "Can't divide by zero\n"
     ]
    }
   ],
   "source": [
    "try:\n",
    "    a = int(input())\n",
    "    b = int(input())\n",
    "    ans = a/b\n",
    "    print(ans)\n",
    "except ZeroDivisionError:\n",
    "    print(\"Can't divide by zero\")"
   ]
  },
  {
   "cell_type": "code",
   "execution_count": null,
   "metadata": {},
   "outputs": [],
   "source": []
  }
 ]
}