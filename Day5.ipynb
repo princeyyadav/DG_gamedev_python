{
 "metadata": {
  "language_info": {
   "codemirror_mode": {
    "name": "ipython",
    "version": 3
   },
   "file_extension": ".py",
   "mimetype": "text/x-python",
   "name": "python",
   "nbconvert_exporter": "python",
   "pygments_lexer": "ipython3",
   "version": "3.8.3-final"
  },
  "orig_nbformat": 2,
  "kernelspec": {
   "name": "python3",
   "display_name": "Python 3",
   "language": "python"
  }
 },
 "nbformat": 4,
 "nbformat_minor": 2,
 "cells": [
  {
   "source": [
    "# Day 5 (5-Feb-2021)\n",
    "## Lecture 9:\n",
    "- Error Handling  \n",
    "- OOP:\n",
    "    - class, instance, class variable\n",
    "    - classmethod, staticmethod\n",
    "    - Inheritance\n",
    "    - Dunder methods"
   ],
   "cell_type": "markdown",
   "metadata": {}
  },
  {
   "source": [
    "## Error Handling"
   ],
   "cell_type": "markdown",
   "metadata": {}
  },
  {
   "cell_type": "code",
   "execution_count": 7,
   "metadata": {},
   "outputs": [
    {
     "output_type": "stream",
     "name": "stdout",
     "text": [
      "Some exception occured\nThis block will always run\n"
     ]
    }
   ],
   "source": [
    "try:\n",
    "    a = int(input())\n",
    "    b = int(input())\n",
    "    div = a/b\n",
    "    s = a+b\n",
    "    s = \"Hello\" + a # it caused type error\n",
    "    print(div, s)\n",
    "except ZeroDivisionError:\n",
    "    print(\"Cannot divide by zero\")\n",
    "except ValueError:\n",
    "    print(\"Number input allowed\")\n",
    "except:                                 # catch all exceptions except value error and zerodivisionerror\n",
    "    print(\"Some exception occured\") \n",
    "finally:\n",
    "    print(\"This block will always run\")"
   ]
  },
  {
   "cell_type": "code",
   "execution_count": 8,
   "metadata": {},
   "outputs": [],
   "source": [
    "a = 67\n",
    "# s = \"Hello\" + a # gives type error"
   ]
  },
  {
   "source": [
    "## OOP"
   ],
   "cell_type": "markdown",
   "metadata": {}
  },
  {
   "cell_type": "code",
   "execution_count": 31,
   "metadata": {},
   "outputs": [],
   "source": [
    "class Fan:\n",
    "\n",
    "    # class variables: common among all objects\n",
    "    maxspeed = 120\n",
    "    company = \"Havels\"\n",
    "\n",
    "    # constructor\n",
    "    def __init__(self, color, blades, speed):\n",
    "        self.color = color\n",
    "        self.blades = blades\n",
    "        self.speed = speed\n",
    "\n",
    "    def display_properties(self):\n",
    "        print(f\"Color: {self.color}\")\n",
    "        print(f\"No. of blades: {self.blades}\")\n",
    "        print(f\"Speed: {self.speed} rpm\")\n",
    "        print(f\"Maxspeed: {Fan.maxspeed}\") # class var\n",
    "        print(f\"Company: {Fan.company}\") # class var\n",
    "\n",
    "    @classmethod\n",
    "    def updateMaxSpeed(cls, val):\n",
    "        cls.maxspeed = val\n",
    "\n",
    "    @staticmethod\n",
    "    def rotate_helper():\n",
    "        return \"electricity\"\n",
    "\n",
    "    def rotate(self):\n",
    "        s = Fan.rotate_helper()\n",
    "        print(f\"The Fan runs on {s} with {self.speed} rpm\")\n",
    "\n"
   ]
  },
  {
   "cell_type": "code",
   "execution_count": 32,
   "metadata": {},
   "outputs": [
    {
     "output_type": "stream",
     "name": "stdout",
     "text": [
      "Color: black\nNo. of blades: 3\nSpeed: 60 rpm\nMaxspeed: 120\nCompany: Havels\n<class '__main__.Fan'>\n180 180\nThe Fan runs on electricity with 60 rpm\n"
     ]
    }
   ],
   "source": [
    "# create object/ instance of Fan class\n",
    "f1 = Fan(\"black\", 3, 60)\n",
    "f2 = Fan(\"white\", \"4\", 50)\n",
    "\n",
    "f1.display_properties()\n",
    "print(type(f1))\n",
    "\n",
    "\n",
    "Fan.updateMaxSpeed(180)\n",
    "print(f1.maxspeed, f2.maxspeed)\n",
    "\n",
    "f1.rotate()"
   ]
  },
  {
   "source": [
    "## Lecture 10"
   ],
   "cell_type": "markdown",
   "metadata": {}
  },
  {
   "cell_type": "code",
   "execution_count": 139,
   "metadata": {},
   "outputs": [],
   "source": [
    "class Point:\n",
    "\n",
    "    def __init__(self, x, y):\n",
    "        self.x = x\n",
    "        self.y = y\n",
    "\n",
    "    @staticmethod\n",
    "    def distance(a,b):\n",
    "        return ((a.x-b.x)**2 + (a.y-b.y)**2)**(0.5)\n",
    "    \n",
    "    @classmethod\n",
    "    def collide(cls, a, b):\n",
    "        d = Point.distance(a,b)\n",
    "        if d == 0:\n",
    "            return True\n",
    "        return False\n",
    "\n",
    "    def view(self):\n",
    "        print(f\"x: {self.x}, y: {self.y}\")"
   ]
  },
  {
   "cell_type": "code",
   "execution_count": 140,
   "metadata": {},
   "outputs": [
    {
     "output_type": "stream",
     "name": "stdout",
     "text": [
      "False\nTrue\n2.23606797749979\n0.0\n"
     ]
    }
   ],
   "source": [
    "A = Point(1,2)\n",
    "B = Point(3, 1)\n",
    "isCollide = Point.collide(A,B)\n",
    "print(isCollide)\n",
    "\n",
    "C = Point(1,2)\n",
    "isCollide = Point.collide(A,C) # calling classmethod using class reference \n",
    "print(isCollide)\n",
    "\n",
    "d = Point.distance(A,B) # calling the staticmethod using class reference\n",
    "print(d)\n",
    "\n",
    "d = Point.distance(A,C)\n",
    "print(d)"
   ]
  },
  {
   "cell_type": "code",
   "execution_count": 141,
   "metadata": {},
   "outputs": [
    {
     "output_type": "stream",
     "name": "stdout",
     "text": [
      "True\n"
     ]
    },
    {
     "output_type": "execute_result",
     "data": {
      "text/plain": [
       "2.23606797749979"
      ]
     },
     "metadata": {},
     "execution_count": 141
    }
   ],
   "source": [
    "# calling classmethod & staticmethod using object ref\n",
    "isCollide = A.collide(A,C) # classmethod\n",
    "print(isCollide)\n",
    "\n",
    "A.distance(A, B) # staticmethod"
   ]
  },
  {
   "cell_type": "code",
   "execution_count": 142,
   "metadata": {},
   "outputs": [
    {
     "output_type": "stream",
     "name": "stdout",
     "text": [
      "x: 1, y: 2\n"
     ]
    }
   ],
   "source": [
    "A.view()"
   ]
  },
  {
   "source": [
    "## Inheritance"
   ],
   "cell_type": "markdown",
   "metadata": {}
  },
  {
   "cell_type": "code",
   "execution_count": 109,
   "metadata": {},
   "outputs": [],
   "source": [
    "class Employee:\n",
    "\n",
    "    total = 0\n",
    "\n",
    "    def __init__(self, name, pay=50000):\n",
    "        self.id = Employee.total + 1\n",
    "        self.name = name\n",
    "        self.pay = pay\n",
    "        Employee.total += 1 # update total employees\n",
    "\n",
    "    def giveRaise(self, percent):\n",
    "        self.pay = self.pay*(1+(percent/100))\n",
    "\n",
    "    def view(self):\n",
    "        print(f\"Id: {self.id}, Name: {self.name}, Pay: {self.pay}\")\n",
    "\n",
    "\n",
    "class Manager(Employee):\n",
    "    def __init__(self, name, dept, pay = 70000):\n",
    "        super().__init__(name, pay)\n",
    "        self.department =  dept\n",
    "\n",
    "    def giveRaise(self, percent, bonus):\n",
    "        self.pay = self.pay*(1+(percent+bonus)/100)\n",
    "\n",
    "    def view(self):\n",
    "        super().view()\n",
    "        print(\"Department: \", self.department)\n",
    "\n",
    "    def __str__(self):\n",
    "        return \"Id: {}\\nName: {}\\nPay: {}\\nDepartment: {}\\n\".format(self.id, self.name, self.pay, self.department)\n",
    "\n",
    "\n"
   ]
  },
  {
   "cell_type": "code",
   "execution_count": 110,
   "metadata": {},
   "outputs": [
    {
     "output_type": "stream",
     "name": "stdout",
     "text": [
      "Id: 1, Name: Riya, Pay: 50000\n"
     ]
    }
   ],
   "source": [
    "e1 = Employee(\"Riya\")\n",
    "e1.view()"
   ]
  },
  {
   "cell_type": "code",
   "execution_count": 111,
   "metadata": {},
   "outputs": [
    {
     "output_type": "stream",
     "name": "stdout",
     "text": [
      "Id: 2, Name: Paridhi, Pay: 50000\nDepartment:  Sales\n"
     ]
    }
   ],
   "source": [
    "m1 = Manager(\"Paridhi\", \"Sales\", 50000)\n",
    "m1.view()"
   ]
  },
  {
   "cell_type": "code",
   "execution_count": 112,
   "metadata": {},
   "outputs": [
    {
     "output_type": "stream",
     "name": "stdout",
     "text": [
      "51000.0\n"
     ]
    }
   ],
   "source": [
    "m1.giveRaise(1,1)\n",
    "print(m1.pay)"
   ]
  },
  {
   "cell_type": "code",
   "execution_count": 113,
   "metadata": {},
   "outputs": [
    {
     "output_type": "stream",
     "name": "stdout",
     "text": [
      "Id: 1, Name: Riya, Pay: 50500.0\n"
     ]
    }
   ],
   "source": [
    "e1.giveRaise(1)\n",
    "e1.view()"
   ]
  },
  {
   "cell_type": "code",
   "execution_count": 114,
   "metadata": {},
   "outputs": [
    {
     "output_type": "execute_result",
     "data": {
      "text/plain": [
       "__main__.Employee"
      ]
     },
     "metadata": {},
     "execution_count": 114
    }
   ],
   "source": [
    "type(e1)"
   ]
  },
  {
   "cell_type": "code",
   "execution_count": 115,
   "metadata": {},
   "outputs": [
    {
     "output_type": "stream",
     "name": "stdout",
     "text": [
      "Id: 2\nName: Paridhi\nPay: 51000.0\nDepartment: Sales\n\n"
     ]
    }
   ],
   "source": [
    "print(m1) # print calls __str__"
   ]
  },
  {
   "source": [
    "## Dunder methods"
   ],
   "cell_type": "markdown",
   "metadata": {}
  },
  {
   "cell_type": "code",
   "execution_count": 94,
   "metadata": {},
   "outputs": [],
   "source": [
    "class Dog:\n",
    "\n",
    "    def __init__(self, name, color=\"white\", breed=\"pitbull\"):\n",
    "        self.name = name\n",
    "        self.color = color\n",
    "        self.breed = breed\n",
    "\n",
    "    def __str__(self):\n",
    "        return self.name+\" \"+self.color+\" \"+self.breed\n",
    "\n",
    "    def __repr__(self):\n",
    "        return self.name+\" \"+self.color+\" \"+self.breed\n",
    "\n",
    "    def __add__(d1, d2):\n",
    "        name = d1.name + d2.name\n",
    "        return Dog(name)\n",
    "\n",
    "    def __len__(self):\n",
    "        return len(self.name)"
   ]
  },
  {
   "cell_type": "code",
   "execution_count": 95,
   "metadata": {},
   "outputs": [],
   "source": [
    "d1 = Dog(\"Spike\")\n",
    "d2 = Dog(\"Tyson\")"
   ]
  },
  {
   "cell_type": "code",
   "execution_count": 96,
   "metadata": {},
   "outputs": [
    {
     "output_type": "stream",
     "name": "stdout",
     "text": [
      "Spike white pitbull\n"
     ]
    }
   ],
   "source": [
    "print(d1) # calls __str__ dunder"
   ]
  },
  {
   "cell_type": "code",
   "execution_count": 97,
   "metadata": {},
   "outputs": [
    {
     "output_type": "execute_result",
     "data": {
      "text/plain": [
       "Spike white pitbull"
      ]
     },
     "metadata": {},
     "execution_count": 97
    }
   ],
   "source": [
    "d1 # calls __repr__ dunder"
   ]
  },
  {
   "cell_type": "code",
   "execution_count": 98,
   "metadata": {},
   "outputs": [
    {
     "output_type": "stream",
     "name": "stdout",
     "text": [
      "SpikeTyson white pitbull\n"
     ]
    }
   ],
   "source": [
    "nd = d1+d2 # calls __add__ dunder\n",
    "print(nd)"
   ]
  },
  {
   "cell_type": "code",
   "execution_count": 99,
   "metadata": {},
   "outputs": [
    {
     "output_type": "execute_result",
     "data": {
      "text/plain": [
       "5"
      ]
     },
     "metadata": {},
     "execution_count": 99
    }
   ],
   "source": [
    "len(d1) # calls __len__ dunder"
   ]
  },
  {
   "cell_type": "code",
   "execution_count": 100,
   "metadata": {},
   "outputs": [
    {
     "output_type": "stream",
     "name": "stdout",
     "text": [
      "This is demo file.\n\n"
     ]
    }
   ],
   "source": [
    "# opening file present in a folder\n",
    "f = open(\"demo/exm.txt\", \"r\")\n",
    "data = f.read()\n",
    "print(data)\n",
    "f.close()"
   ]
  }
 ]
}