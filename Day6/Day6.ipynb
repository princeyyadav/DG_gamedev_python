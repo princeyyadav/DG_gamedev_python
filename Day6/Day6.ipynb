{
 "metadata": {
  "language_info": {
   "codemirror_mode": {
    "name": "ipython",
    "version": 3
   },
   "file_extension": ".py",
   "mimetype": "text/x-python",
   "name": "python",
   "nbconvert_exporter": "python",
   "pygments_lexer": "ipython3",
   "version": "3.8.3-final"
  },
  "orig_nbformat": 2,
  "kernelspec": {
   "name": "python3",
   "display_name": "Python 3",
   "language": "python"
  }
 },
 "nbformat": 4,
 "nbformat_minor": 2,
 "cells": [
  {
   "source": [
    "# Day 6\n",
    "## Lecture 11\n",
    "- Questions"
   ],
   "cell_type": "markdown",
   "metadata": {}
  },
  {
   "source": [
    "### 1. Binary Search"
   ],
   "cell_type": "markdown",
   "metadata": {}
  },
  {
   "cell_type": "code",
   "execution_count": 11,
   "metadata": {},
   "outputs": [],
   "source": [
    "def binarySearch(l, key, si, ei):\n",
    "\n",
    "    # base case\n",
    "    if si > ei: # key not present\n",
    "        print(f\"key: {key}, si: {si}, ei: {ei}\")\n",
    "        return -1\n",
    "\n",
    "    mid = (si + ei)//2\n",
    "    if l[mid] == key:\n",
    "        print(f\"key: {key}, si: {si}, ei: {ei}, mid: {mid}, l[mid]: {l[mid]}\")\n",
    "        return mid\n",
    "    \n",
    "    elif key < l[mid]:\n",
    "        print(f\"key: {key}, si: {si}, ei: {ei}, mid: {mid}, l[mid]: {l[mid]}\")\n",
    "        return binarySearch(l, key, si, mid-1)\n",
    "\n",
    "    else:\n",
    "        print(f\"key: {key}, si: {si}, ei: {ei}, mid: {mid}, l[mid]: {l[mid]}\")\n",
    "        return binarySearch(l, key, mid+1, ei)"
   ]
  },
  {
   "cell_type": "code",
   "execution_count": 12,
   "metadata": {},
   "outputs": [
    {
     "output_type": "stream",
     "name": "stdout",
     "text": [
      "key: 1, si: 0, ei: 5, mid: 2, l[mid]: 7\nkey: 1, si: 0, ei: 1, mid: 0, l[mid]: 1\n0\n"
     ]
    }
   ],
   "source": [
    "l = [1, 5, 7, 13, 45, 89]\n",
    "key = 1\n",
    "print(binarySearch(l, key, 0, len(l)-1))"
   ]
  },
  {
   "cell_type": "code",
   "execution_count": 13,
   "metadata": {},
   "outputs": [
    {
     "output_type": "stream",
     "name": "stdout",
     "text": [
      "key: 89, si: 0, ei: 5, mid: 2, l[mid]: 7\nkey: 89, si: 3, ei: 5, mid: 4, l[mid]: 45\nkey: 89, si: 5, ei: 5, mid: 5, l[mid]: 89\n5\n"
     ]
    }
   ],
   "source": [
    "key = 89\n",
    "print(binarySearch(l, key, 0, len(l)-1))"
   ]
  },
  {
   "cell_type": "code",
   "execution_count": 14,
   "metadata": {},
   "outputs": [
    {
     "output_type": "stream",
     "name": "stdout",
     "text": [
      "key: 0, si: 0, ei: 5, mid: 2, l[mid]: 7\nkey: 0, si: 0, ei: 1, mid: 0, l[mid]: 1\nkey: 0, si: 0, ei: -1\n-1\n"
     ]
    }
   ],
   "source": [
    "key = 0 # key not present, so we hit the base case\n",
    "print(binarySearch(l, key, 0, len(l)-1))"
   ]
  },
  {
   "source": [
    "### 2. Bubble Sort"
   ],
   "cell_type": "markdown",
   "metadata": {}
  },
  {
   "cell_type": "code",
   "execution_count": 15,
   "metadata": {},
   "outputs": [],
   "source": [
    "def bubbleSort(l):\n",
    "    for i in range(len(l)-1):\n",
    "        for j in range(i+1, len(l)):\n",
    "            if l[i] > l[j]:\n",
    "                l[i], l[j] = l[j], l[i] # swap"
   ]
  },
  {
   "cell_type": "code",
   "execution_count": 16,
   "metadata": {},
   "outputs": [
    {
     "output_type": "stream",
     "name": "stdout",
     "text": [
      "[-3, 0, 3, 7, 40, 70, 81]\n"
     ]
    }
   ],
   "source": [
    "l = [81, 70, 40, 7, 3, 0, -3]\n",
    "bubbleSort(l)\n",
    "print(l)"
   ]
  },
  {
   "cell_type": "code",
   "execution_count": 21,
   "metadata": {},
   "outputs": [],
   "source": [
    "# list sum without copying the list\n",
    "def list_sum(l, si):\n",
    "    # base case\n",
    "    if si >= len(l):\n",
    "        print(si, 0)\n",
    "        return 0\n",
    "\n",
    "    smallans = list_sum(l, si+1)\n",
    "    ans = l[si] + smallans\n",
    "    print(f\"si: {si}, l[si]: {l[si]}, smallans: {smallans}, ans: {ans}\")\n",
    "    return ans"
   ]
  },
  {
   "cell_type": "code",
   "execution_count": 22,
   "metadata": {},
   "outputs": [
    {
     "output_type": "stream",
     "name": "stdout",
     "text": [
      "6 0\nsi: 5, l[si]: 2, smallans: 0, ans: 2\nsi: 4, l[si]: 9, smallans: 2, ans: 11\nsi: 3, l[si]: 5, smallans: 11, ans: 16\nsi: 2, l[si]: 3, smallans: 16, ans: 19\nsi: 1, l[si]: 0, smallans: 19, ans: 19\nsi: 0, l[si]: 1, smallans: 19, ans: 20\n20\n"
     ]
    }
   ],
   "source": [
    "l = [1, 0, 3, 5, 9, 2]\n",
    "print(list_sum(l, 0))"
   ]
  },
  {
   "source": [
    "### 3. Array Sum using Top down approach"
   ],
   "cell_type": "markdown",
   "metadata": {}
  },
  {
   "cell_type": "code",
   "execution_count": 29,
   "metadata": {},
   "outputs": [],
   "source": [
    "def l_sum(l, si=0, ans=0):\n",
    "\n",
    "    # base case\n",
    "    if si >= len(l):\n",
    "        print(f\"si: {si} ans: {ans}\")\n",
    "        return\n",
    "\n",
    "    ans += l[si]\n",
    "    print(f\"si: {si} ans: {ans}\")\n",
    "    return l_sum(l, si+1, ans)"
   ]
  },
  {
   "cell_type": "code",
   "execution_count": 30,
   "metadata": {},
   "outputs": [
    {
     "output_type": "stream",
     "name": "stdout",
     "text": [
      "si: 0 ans: 1\nsi: 1 ans: 1\nsi: 2 ans: 4\nsi: 3 ans: 9\nsi: 4 ans: 18\nsi: 5 ans: 20\nsi: 6 ans: 24\nsi: 7 ans: 24\n"
     ]
    }
   ],
   "source": [
    "l = [1, 0, 3, 5, 9, 2, 4]\n",
    "l_sum(l)"
   ]
  },
  {
   "source": [
    "### 4. Merge two sorted arrays"
   ],
   "cell_type": "markdown",
   "metadata": {}
  },
  {
   "cell_type": "code",
   "execution_count": 35,
   "metadata": {},
   "outputs": [],
   "source": [
    "def merge_sorted_arrays(l1, l2):\n",
    "    i = 0 # pointer for list l1\n",
    "    j = 0 # pointer for list l2\n",
    "    ans = []\n",
    "    while i<len(l1) and j <len(l2):\n",
    "        if l1[i] < l2[j]:\n",
    "            ans.append(l1[i])\n",
    "            i += 1\n",
    "        else:\n",
    "            ans.append(l2[j]) \n",
    "            j += 1\n",
    "        print(f\"i: {i}, j: {j}\\tans: {ans}\")\n",
    "\n",
    "    while i < len(l1):\n",
    "        ans.append(l1[i])\n",
    "        print(f\"i: {i}, j: {j}\\tans: {ans}\")\n",
    "        i += 1\n",
    "\n",
    "    while j<len(l2):\n",
    "        ans.append(l2[j])\n",
    "        print(f\"i: {i}, j: {j}\\tans: {ans}\")\n",
    "        j += 1\n",
    "    return ans"
   ]
  },
  {
   "cell_type": "code",
   "execution_count": 36,
   "metadata": {},
   "outputs": [
    {
     "output_type": "stream",
     "name": "stdout",
     "text": [
      "i: 0, j: 1\tans: [1]\ni: 1, j: 1\tans: [1, 1]\ni: 1, j: 2\tans: [1, 1, 3]\ni: 1, j: 3\tans: [1, 1, 3, 5]\ni: 2, j: 3\tans: [1, 1, 3, 5, 5]\ni: 3, j: 3\tans: [1, 1, 3, 5, 5, 15]\ni: 3, j: 3\tans: [1, 1, 3, 5, 5, 15, 18]\ni: 3, j: 4\tans: [1, 1, 3, 5, 5, 15, 18, 20]\n[1, 1, 3, 5, 5, 15, 18, 20]\n"
     ]
    }
   ],
   "source": [
    "l1 = [1, 5, 15]\n",
    "l2 = [1, 3, 5, 18, 20]\n",
    "print(merge_sorted_arrays(l1, l2))"
   ]
  },
  {
   "source": [
    "## Lecture 12\n",
    "### 5. Check if 7 is present in a list\n",
    "- using loop  "
   ],
   "cell_type": "markdown",
   "metadata": {}
  },
  {
   "cell_type": "code",
   "execution_count": 38,
   "metadata": {},
   "outputs": [
    {
     "output_type": "stream",
     "name": "stdout",
     "text": [
      "False\n"
     ]
    }
   ],
   "source": [
    "def isKeyPresent(l, key):\n",
    "    for el in l:\n",
    "        if el == key:\n",
    "            return True\n",
    "    # key not present\n",
    "    return False\n",
    "\n",
    "l = [1, 5, 8, 0, 32]\n",
    "key = 7\n",
    "print(isKeyPresent(l, key))"
   ]
  },
  {
   "source": [
    "### B. using recursion  \n",
    "    1. check if list contains 7  \n",
    "    2. Find first index of 7  \n",
    "    3. Find last index of 7  \n",
    "    4. Find all indices of 7  "
   ],
   "cell_type": "markdown",
   "metadata": {}
  },
  {
   "cell_type": "code",
   "execution_count": 40,
   "metadata": {},
   "outputs": [],
   "source": [
    "# 1. check if list contains 7 using recursion\n",
    "\n",
    "def isPresent(l, key, si=0):\n",
    "    # base case: empty list or key not found\n",
    "    if si >= len(l):\n",
    "        return False\n",
    "\n",
    "    if l[si] == key:\n",
    "        return True\n",
    "    \n",
    "    return isPresent(l, key, si+1)"
   ]
  },
  {
   "cell_type": "code",
   "execution_count": 43,
   "metadata": {},
   "outputs": [
    {
     "output_type": "stream",
     "name": "stdout",
     "text": [
      "True\nFalse\n"
     ]
    }
   ],
   "source": [
    "l = [1, 5, 7, 0, 32]\n",
    "key = 32\n",
    "print(isPresent(l, key))\n",
    "\n",
    "l = [1, 5, 8, 0, 32]\n",
    "key = 7\n",
    "print(isPresent(l, key))"
   ]
  },
  {
   "cell_type": "code",
   "execution_count": 44,
   "metadata": {},
   "outputs": [],
   "source": [
    "# return first index of key\n",
    "def firstIndex(l, key, si=0):\n",
    "    # base case: empty list or key not found\n",
    "    if si >= len(l):\n",
    "        return -1\n",
    "\n",
    "    if l[si] == key:\n",
    "        return si\n",
    "    \n",
    "    return firstIndex(l, key, si+1)"
   ]
  },
  {
   "cell_type": "code",
   "execution_count": 48,
   "metadata": {},
   "outputs": [
    {
     "output_type": "stream",
     "name": "stdout",
     "text": [
      "4\n-1\n"
     ]
    }
   ],
   "source": [
    "l = [1, 5, 8, 77, 7, 0, 32]\n",
    "key = 7\n",
    "print(firstIndex(l, key))\n",
    "key = 9\n",
    "print(firstIndex(l, key))"
   ]
  },
  {
   "cell_type": "code",
   "execution_count": 63,
   "metadata": {},
   "outputs": [],
   "source": [
    "# 3. return last index of key\n",
    "def lastIndex2(b, key, ei):\n",
    "    # base case: empty list or key not found\n",
    "    if ei < 0:\n",
    "        return -1\n",
    "\n",
    "    if b[ei] == key:\n",
    "        return ei\n",
    "    \n",
    "    return lastIndex2(b, key, ei-1)"
   ]
  },
  {
   "cell_type": "code",
   "execution_count": 66,
   "metadata": {},
   "outputs": [
    {
     "output_type": "stream",
     "name": "stdout",
     "text": [
      "4\n"
     ]
    }
   ],
   "source": [
    "a = [1, 5, 8, 7, 7, 0, 32]\n",
    "key = 7\n",
    "print(lastIndex2(a,key, len(a)-1))"
   ]
  },
  {
   "cell_type": "code",
   "execution_count": 67,
   "metadata": {},
   "outputs": [
    {
     "output_type": "stream",
     "name": "stdout",
     "text": [
      "-1\n"
     ]
    }
   ],
   "source": [
    "a = []\n",
    "key = 7\n",
    "print(lastIndex2(a,key, len(a)-1))"
   ]
  },
  {
   "cell_type": "code",
   "execution_count": 76,
   "metadata": {},
   "outputs": [],
   "source": [
    "def allIndices(l, key, si=0, ans=[]):\n",
    "    # base case\n",
    "    if si >= len(l):\n",
    "        return ans\n",
    "\n",
    "    if l[si] == key:\n",
    "        ans.append(si)\n",
    "\n",
    "    return allIndices(l, key, si+1, ans)"
   ]
  },
  {
   "cell_type": "code",
   "execution_count": 71,
   "metadata": {},
   "outputs": [
    {
     "output_type": "stream",
     "name": "stdout",
     "text": [
      "[3, 4]\n"
     ]
    }
   ],
   "source": [
    "# 4. return all indices of a key\n",
    "a = [1, 5, 8, 7, 7, 0, 32]\n",
    "key = 7\n",
    "print(allIndices(a, key))"
   ]
  },
  {
   "cell_type": "code",
   "execution_count": 77,
   "metadata": {},
   "outputs": [
    {
     "output_type": "stream",
     "name": "stdout",
     "text": [
      "[]\n"
     ]
    }
   ],
   "source": [
    "arr = [1, 5, 8, 7, 7, 0, 32]\n",
    "key = 11\n",
    "print(allIndices(arr, key))"
   ]
  },
  {
   "cell_type": "code",
   "execution_count": null,
   "metadata": {},
   "outputs": [],
   "source": []
  },
  {
   "source": [
    "### Login System"
   ],
   "cell_type": "markdown",
   "metadata": {}
  },
  {
   "cell_type": "code",
   "execution_count": 114,
   "metadata": {},
   "outputs": [],
   "source": [
    "class User:\n",
    "\n",
    "    def __init__(self, email, firstname, surname, password, dob, gender):\n",
    "        self.email = email\n",
    "        self.firstname = firstname\n",
    "        self.surname = surname\n",
    "        self.password = password\n",
    "        self.dob = dob\n",
    "        self.gender = gender\n",
    "\n",
    "    def delete(self):\n",
    "        pass\n",
    "\n",
    "    def view(self):\n",
    "        pass\n",
    "\n",
    "    def update(self):\n",
    "        pass"
   ]
  },
  {
   "cell_type": "code",
   "execution_count": 111,
   "metadata": {},
   "outputs": [],
   "source": [
    "\n",
    "def display_title(s):\n",
    "    print(\"=\"*40)\n",
    "    print(s)\n",
    "    print(\"=\"*40)\n",
    "\n",
    "def display_options():\n",
    "    options = [\"Login\", \"Forgot Password\", \"Create New Account\", \"Quit\"]\n",
    "    i = 1\n",
    "    for op in options:\n",
    "        print(f\"{i}. Enter {i} for {op}\")\n",
    "        i += 1\n",
    "\n",
    "def get_db_list(filename = \"users.csv\"):\n",
    "    f = open(filename, \"r\")\n",
    "    data = f.read() \n",
    "    data = data.splitlines()\n",
    "    db = []\n",
    "    for rec in data:\n",
    "        db.append(rec.split(\", \"))\n",
    "    return db\n",
    "\n",
    "def login():\n",
    "    email = input(\"Enter email\")\n",
    "    password = input(\"Enter password\")\n",
    "\n",
    "    # check user exist or not\n",
    "    db = get_db_list()\n",
    "    # email\n",
    "    for rec in db:\n",
    "        if rec[0] == email and rec[3] == password:\n",
    "            # HW\n",
    "            print(\"Login successful\")\n",
    "            break\n",
    "    else:\n",
    "        \"Invalid email or password!\"\n",
    "    \n",
    "def forgot_password():\n",
    "    print(\"Password forgotten!\")\n",
    "    # HW\n",
    "    \n",
    "\n",
    "def signup():\n",
    "    # take input from user\n",
    "    firstname = input(\"Enter first name\")\n",
    "    surname = input(\"Enter surname\")\n",
    "    email = input(\"Enter email\")\n",
    "    password = input(\"Enter password\")\n",
    "    dob = input(\"Enter date of birth\")\n",
    "    gender = input(\"Enter your gender\")\n",
    "\n",
    "    f = open(\"users.csv\", \"a\")\n",
    "    # email, firstname, surname, password, dob, gender\n",
    "    s = f\"{email}, {firstname}, {surname}, {password}, {dob}, {gender}\\n\"\n",
    "    f.write(s)\n",
    "    f.close()\n",
    "\n",
    "    print(\"Sign up successful!\")"
   ]
  },
  {
   "cell_type": "code",
   "execution_count": 112,
   "metadata": {},
   "outputs": [
    {
     "output_type": "stream",
     "name": "stdout",
     "text": [
      "========================================\n",
      "Welcome to FB\n",
      "========================================\n",
      "1. Enter 1 for Login\n",
      "2. Enter 2 for Forgot Password\n",
      "3. Enter 3 for Create New Account\n",
      "4. Enter 4 for Quit\n",
      "Login successful\n",
      "Thank you for stopping by!!\n"
     ]
    }
   ],
   "source": [
    "def main_page():\n",
    "\n",
    "    display_title(\"Welcome to FB\")\n",
    "    display_options()\n",
    "\n",
    "    run = True\n",
    "    while run:\n",
    "        x = input()\n",
    "        if x == \"1\":\n",
    "            login()\n",
    "\n",
    "        elif x ==\"2\":\n",
    "            forgot_password()\n",
    "\n",
    "        elif x == \"3\":\n",
    "            signup()\n",
    "\n",
    "        elif x == \"4\":\n",
    "            run = False\n",
    "            print(\"Thank you for stopping by!!\")\n",
    "\n",
    "        else:\n",
    "            print(\"Enter Valid Input\")\n",
    "main_page()"
   ]
  },
  {
   "cell_type": "code",
   "execution_count": 94,
   "metadata": {},
   "outputs": [
    {
     "output_type": "execute_result",
     "data": {
      "text/plain": [
       "'email, firstname, surname, password, dob, gender\\nabhijit@gmail.com, Abhijit, Raj, abhi123, 1/01/1993, m\\nvaibhav@gmail.com, Vaibhav, Mittal, vaib@123,  1/01/1995, m\\nsanket@gmail.com, Sanket, Deshpande, sank@123, 1/01/1997, m\\nanjali@gmail.com, Anjali, Walia, anja@123, 1/02/1994, f\\nneha@gmail.com, Neha, Mishra, neha@123, 01/11/1994, f\\n'"
      ]
     },
     "metadata": {},
     "execution_count": 94
    }
   ],
   "source": [
    "filename= \"users.csv\"\n",
    "f = open(filename, \"r\")\n",
    "data = f.read()\n",
    "data"
   ]
  }
 ]
}